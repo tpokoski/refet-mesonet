{
 "cells": [
  {
   "cell_type": "markdown",
   "metadata": {},
   "source": [
    "# Reference Evapotranspiration Comparison: State Mesonet vs pyFAO56\n",
    "This Jupyter Notebook contains a script to compare a state's Mesonet calculation of reference evapotranspiration (ETr or ETo) with the reference ET calculated using the FAO-56 Penman-Monteith equation, via a python package pyfao56. \n",
    "Using Hourly or Daily data, fill out the columns in the respective excel template, and run the script below. "
   ]
  },
  {
   "cell_type": "code",
   "execution_count": 100,
   "metadata": {
    "jupyter": {
     "source_hidden": true
    }
   },
   "outputs": [],
   "source": [
    "# Required packages for the script\n",
    "import pyfao56 as fao\n",
    "from pyfao56 import tools\n",
    "import pandas as pd\n",
    "import numpy as np\n",
    "import plotly.graph_objects as go"
   ]
  },
  {
   "cell_type": "markdown",
   "metadata": {},
   "source": [
    "# Alter the information below to find your inputted data. "
   ]
  },
  {
   "cell_type": "code",
   "execution_count": 101,
   "metadata": {},
   "outputs": [],
   "source": [
    "# Import the weather data from your Excel file\n",
    "input_file = 'input/CO/GLY04_2023.xlsx'\n",
    "output_path = 'output/CO/'\n",
    "\n",
    "# Time format of your data? Daily or Hourly\n",
    "time_format = 'Hourly'\n",
    "\n",
    "# Do you want to make a pyfao56 Weather Object? True/False\n",
    "make_wth = True\n",
    "\n",
    "# Enter a comment for file export names\n",
    "comment = 'GLY04'\n",
    "state = 'CO'\n",
    "\n",
    "\n",
    "# Weather station Parameters:\n",
    "\n",
    "# Height of the Reference Crop, \"T\" for alfalfa or \"S\" for grass\n",
    "rfcrp = \"T\"\n",
    "\n",
    "# Elevation, Latitude, and Longitude of the Weather Station\n",
    "z     = 1427.3784\n",
    "lat   = 40.4487\n",
    "lon   = -104.6380\n",
    "\n",
    "# Longitude of the center of the local time zone\n",
    "lzn = -105\n",
    "\n",
    "# Enter the height of the wind measurement at your station (m)\n",
    "wndht = 2"
   ]
  },
  {
   "cell_type": "markdown",
   "metadata": {},
   "source": [
    "# Run All cells, and it will create files in the output folder"
   ]
  },
  {
   "cell_type": "code",
   "execution_count": 102,
   "metadata": {
    "jupyter": {
     "source_hidden": true
    },
    "tags": [
     "hide-input"
    ]
   },
   "outputs": [],
   "source": [
    "input_df = pd.read_excel(input_file, time_format)\n",
    "# Remove unit row from the dataframe:\n",
    "input_df = input_df.iloc[1:]\n",
    "input_df.reset_index(drop=True, inplace=True)"
   ]
  },
  {
   "cell_type": "code",
   "execution_count": 103,
   "metadata": {
    "jupyter": {
     "source_hidden": true
    },
    "tags": [
     "hide-input"
    ]
   },
   "outputs": [],
   "source": [
    "def compute_et_hourly(df,rfcrp,z,lat,lon,lzn,wndht,comment):\n",
    "    print('Hourly')\n",
    "    # Change the data types of the dataframe columns\n",
    "    d_types = {'Date and Time':     'datetime64[ns]',\n",
    "                'Air Temp':         'float64',\n",
    "                'Relative Humidity':'float64',\n",
    "                'Dewpoint':         'float64',\n",
    "                'Vapor Pressure':   'float64',\n",
    "                'Solar Rad':        'float64',\n",
    "                'Precip':           'float64',\n",
    "                'Wind Speed':       'float64',\n",
    "                'ETr':              'float64',\n",
    "                'ETo':              'float64'}\n",
    "    for col, dtype in d_types.items():\n",
    "        df[col] = df[col].astype(dtype)\n",
    "        \n",
    "    # Rename columns to FAO56:\n",
    "    df.rename(columns={'Date and Time': 'Timestamp',\n",
    "                        'Solar Rad': 'Srad',\n",
    "                        'Air Temp': 'T',\n",
    "                        'Vapor Pressure': 'Vapr',\n",
    "                        'Dewpoint': 'Tdew',\n",
    "                        'Relative Humidity': 'RH',\n",
    "                        'Wind Speed': 'Wndsp',\n",
    "                        'Precip': 'Rain'}, inplace=True)\n",
    "\n",
    "    # Add Standard Clock Time (SCT) @ midpoint of the period\n",
    "    # SCT is determined by the hour of the datetime object, with an\n",
    "    # adjustment of -0.5 for all hours except midnight (0), for\n",
    "    # which the SCT is set to 23.5.\n",
    "    compute_sct = lambda DT: 23.5 if DT.hour == 0 else DT.hour - 0.5\n",
    "    df['SCT'] = df['Timestamp'].apply(compute_sct)\n",
    "    \n",
    "    \n",
    "    # pyfao56 returns cloudiness values (fcd) for next timestep\n",
    "    # fcd should make the calculations more accurate, so we use it\n",
    "    fcd_list = np.empty(len(df))\n",
    "    fcd_list.fill(np.nan)\n",
    "    # Loop through the dataframe to compute refET for each hour\n",
    "    et = np.empty(len(df))\n",
    "    et.fill(np.nan)\n",
    "    for row in df.itertuples():\n",
    "        idx = row.Index\n",
    "        prev_step = idx -1\n",
    "        temp = df['T'][idx]\n",
    "        rh = df['RH'][idx]\n",
    "        vapr = df['Vapr'][idx]\n",
    "        srad = df['Srad'][idx]\n",
    "        tdew = df['Tdew'][idx]\n",
    "        wind = df['Wndsp'][idx]\n",
    "        rain = df['Rain'][idx]\n",
    "        doy = df['DOY'][idx]\n",
    "        sct = df['SCT'][idx]\n",
    "        time = df['Timestamp'][idx]\n",
    "        if idx == 0:\n",
    "            fcd = 1.0\n",
    "        else:\n",
    "            fcd = fcd_list[prev_step]\n",
    "        # Checking for bad / missing data\n",
    "        values = [temp, rh, tdew, vapr, srad, rain, wind]\n",
    "        if -999 in values:\n",
    "            print(f\"Timestamp {time} is missing data.\")\n",
    "            continue\n",
    "        et_tuple = fao.refet.ascehourly(rfcrp=rfcrp,z=z,lat=lat,lon=lon,lzn=lzn,\n",
    "                                        doy=doy,sct=sct,israd=srad,tavg=temp,\n",
    "                                        vapr=vapr,tdew=tdew,rhum=rh,wndsp=wind,\n",
    "                                        wndht=wndht,tl=1.0,csreq='D',fcdpt=fcd)\n",
    "        fcd_list[idx] = et_tuple[1]\n",
    "        et[idx] = et_tuple[0]\n",
    "    df['refET'] = et\n",
    "\n",
    "    # Group by day\n",
    "    daily_df = df.groupby(\n",
    "        df['Timestamp'].dt.date).agg(\n",
    "            {'Srad': 'sum', 'T': ['max', 'min'], 'Vapr': 'mean', \n",
    "            'Tdew': 'mean', 'RH': ['max', 'min'],'Wndsp': 'mean', \n",
    "            'Rain': 'sum', 'ETr': 'sum', 'ETo': 'sum', 'refET': 'sum'})\n",
    "    # Drop level of column indexing (necessary after using groupby)\n",
    "    daily_df = daily_df.droplevel(1, axis=1)\n",
    "    daily_df.reset_index(inplace=True)\n",
    "    # Rename cols after grouping by date\n",
    "    daily_df.columns = [f'c{i}' for i in range(1, daily_df.shape[1]+1)]\n",
    "    column_names = {daily_df.columns[0]: 'Date',\n",
    "                    daily_df.columns[1]: 'Srad',\n",
    "                    daily_df.columns[2]: 'Tmax',\n",
    "                    daily_df.columns[3]: 'Tmin',\n",
    "                    daily_df.columns[4]: 'Vapr',\n",
    "                    daily_df.columns[5]: 'Tdew',\n",
    "                    daily_df.columns[6]: 'RHmax',\n",
    "                    daily_df.columns[7]: 'RHmin',\n",
    "                    daily_df.columns[8]: 'Wndsp',\n",
    "                    daily_df.columns[9]: 'Rain',\n",
    "                    daily_df.columns[10]: 'ETr',\n",
    "                    daily_df.columns[11]:'ETo',\n",
    "                    daily_df.columns[12]:'refET'}\n",
    "    daily_df.rename(columns=column_names, inplace=True)\n",
    "    \n",
    "    \n",
    "    return df,daily_df"
   ]
  },
  {
   "cell_type": "code",
   "execution_count": 104,
   "metadata": {
    "jupyter": {
     "source_hidden": true
    },
    "tags": [
     "hide-cell"
    ]
   },
   "outputs": [],
   "source": [
    "def compute_et_daily(df,rfcrp,z,lat,wndht,comment):\n",
    "    print('Daily')\n",
    "    # Change the data types of the dataframe columns\n",
    "    d_types = {'Date':             'datetime64[ns]',\n",
    "               'DOY':              'int64',\n",
    "               'Max Temp':         'float64',\n",
    "               'Min Temp':         'float64',\n",
    "               'RH Max':           'float64',\n",
    "               'RH Min':           'float64',\n",
    "               'Dewpoint':         'float64',\n",
    "               'Vapor Pressure':   'float64',\n",
    "               'Solar Rad':        'float64',\n",
    "               'Precip':           'float64',\n",
    "               'Wind Speed':       'float64',\n",
    "               'ETr':              'float64',\n",
    "               'ETo':              'float64'}\n",
    "    for col, dtype in d_types.items():\n",
    "        df[col] = df[col].astype(dtype)\n",
    "        \n",
    "    # Rename columns to FAO56:\n",
    "    df.rename(columns={\n",
    "        'Date': 'Timestamp',\n",
    "        'Solar Rad': 'Srad',\n",
    "        'Max Temp': 'Tmax',\n",
    "        'Min Temp': 'Tmin',\n",
    "        'RH Max': 'RHmax',\n",
    "        'RH Min': 'RHmin',\n",
    "        'Vapor Pressure': 'Vapr',\n",
    "        'Dewpoint': 'Tdew',\n",
    "        'Wind Speed': 'Wndsp',\n",
    "        'Precip': 'Rain'}, inplace=True)\n",
    "    # Loop through the dataframe to compute refET for each day\n",
    "    et = np.empty(len(df))\n",
    "    et.fill(np.nan)\n",
    "    for row in df.itertuples():\n",
    "        idx = row.Index\n",
    "        doy = df['DOY'][idx]\n",
    "        tmax = df['Tmax'][idx]\n",
    "        tmin = df['Tmin'][idx]\n",
    "        rhmax = df['RHmax'][idx]\n",
    "        rhmin = df['RHmin'][idx]\n",
    "        vapr = df['Vapr'][idx]\n",
    "        srad = df['Srad'][idx]\n",
    "        tdew = df['Tdew'][idx]\n",
    "        wind = df['Wndsp'][idx]\n",
    "        rain = df['Rain'][idx]\n",
    "        date = df['Timestamp'][idx]\n",
    "        # Checking for bad / missing data\n",
    "        values = [tmax, tmin, rhmax, rhmin, tdew, vapr, srad, rain, wind]\n",
    "        if -999 in values:\n",
    "            print(f\"Date {date} is missing data.\")\n",
    "            continue\n",
    "        etsz = fao.refet.ascedaily(rfcrp=rfcrp,z=z,lat=lat,doy=doy,\n",
    "                                       tmax=tmax,tmin=tmin,rhmax=rhmax,\n",
    "                                       rhmin=rhmin,vapr=vapr,israd=srad,\n",
    "                                       tdew=tdew,wndsp=wind,wndht=wndht)\n",
    "        et[idx] = etsz\n",
    "    df['refET'] = et\n",
    "\n",
    "    return df"
   ]
  },
  {
   "cell_type": "code",
   "execution_count": 105,
   "metadata": {
    "jupyter": {
     "source_hidden": true
    }
   },
   "outputs": [],
   "source": [
    "def to_wth(df,rfcrp,comment):\n",
    "    wth_df = df.copy()\n",
    "    wth_df['YYYY-DOY'] = pd.to_datetime(wth_df['Date'])\n",
    "    wth_df.index = wth_df['YYYY-DOY'].dt.strftime('%Y-%j')\n",
    "    wth_df.drop(['Date', 'YYYY-DOY','ETo', 'ETr'], axis=1, inplace=True)\n",
    "    wth_df.index.name = None\n",
    "    # Add \"M or P\" column\n",
    "    wth_df['MorP'] = 'M'\n",
    "    # Drop -999 and NaN values values:\n",
    "    wth_df = wth_df[wth_df != -999].dropna()\n",
    "    # Create Weather class and save file\n",
    "    wth = fao.Weather()\n",
    "    wth.wdata = wth_df\n",
    "    wth.rfcrp = rfcrp\n",
    "    wth.savefile(f'{output_path}/{comment}.wth')"
   ]
  },
  {
   "cell_type": "code",
   "execution_count": 106,
   "metadata": {
    "jupyter": {
     "source_hidden": true
    }
   },
   "outputs": [],
   "source": [
    "def _kge(s,m):\n",
    "        \"\"\"\n",
    "        Compute the Kling-Gupta (2011) efficiency (kge).\n",
    "        Presently not a feature in pyfao56, soon to be added.\n",
    "        \"\"\"\n",
    "        stats = tools.Statistics(simulated=s, measured=m)\n",
    "        r = stats._r(s,m)\n",
    "        beta = np.mean(s)/np.mean(m)\n",
    "        alpha = np.std(s)/np.std(m)\n",
    "        a = (r-1.0)*(r-1.0)\n",
    "        b = (alpha-1.0)*(alpha-1.0)\n",
    "        c = (beta-1.0)*(beta-1.0)\n",
    "        return 1.0-np.sqrt(a+b+c)"
   ]
  },
  {
   "cell_type": "code",
   "execution_count": 107,
   "metadata": {
    "jupyter": {
     "source_hidden": true
    },
    "tags": [
     "hide-input"
    ]
   },
   "outputs": [],
   "source": [
    "def compute_statistics(df,rfcrp,comment):\n",
    "    if rfcrp == 'T':\n",
    "        df['Mesonet ET'] = df['ETr']\n",
    "        et = 'ETr'\n",
    "    elif rfcrp == 'S':\n",
    "        df['Mesonet ET'] = df['ETo']\n",
    "        et = 'ETo'\n",
    "    if time_format == 'Hourly':\n",
    "        tf = 'Hourly Sum'\n",
    "    else: \n",
    "        tf = 'Daily'\n",
    "    stat_df = df\n",
    "    # Computing statistical differences between pyfao56 and Mesonet\n",
    "    statistics = tools.Statistics(simulated=list(stat_df['refET']), \n",
    "                                measured=list(stat_df['Mesonet ET']))\n",
    "    r2 = statistics._r2(s=stat_df['refET'], m=stat_df['Mesonet ET'])\n",
    "    rmse = statistics._rmse(s=stat_df['refET'], m=stat_df['Mesonet ET'])\n",
    "    bias = statistics._bias(s=stat_df['refET'], m=stat_df['Mesonet ET'])\n",
    "    nse = statistics._nse(s=stat_df['refET'], m=stat_df['Mesonet ET'])\n",
    "    kge = _kge(s=stat_df['refET'], m=stat_df['Mesonet ET'])\n",
    "\n",
    "    \n",
    "    # Plotly figure\n",
    "    fig = go.Figure(data=go.Scatter(x=stat_df['refET'], \n",
    "                                    y=stat_df['Mesonet ET'],\n",
    "                                    mode='markers',\n",
    "                                    hovertext=stat_df.index,\n",
    "                                    hoverinfo='text+x+y',))\n",
    "\n",
    "    # Add line where x = y\n",
    "    fig.add_trace(go.Scatter(\n",
    "        x=[stat_df['refET'].min(), stat_df['refET'].max()],\n",
    "        y=[stat_df['refET'].min(), stat_df['refET'].max()],\n",
    "        mode='lines',\n",
    "        line=dict(color='gray', dash='dash'),\n",
    "        showlegend=False\n",
    "    ))\n",
    "\n",
    "    # Add labels and title\n",
    "    fig.update_layout(\n",
    "        xaxis_title=f'pyfao56 {et} (mm/d)',\n",
    "        yaxis_title=f'Mesonet {et} (mm/d)',\n",
    "        title=f'{state}-{comment} {tf} {et}'\n",
    "    )\n",
    "    # Add annotations (box with text)\n",
    "    fig.update_layout(\n",
    "        annotations=[\n",
    "            dict(\n",
    "                x=1,\n",
    "                y=0.8,\n",
    "                xref=\"paper\",\n",
    "                yref=\"paper\",\n",
    "                text=f\"R2: {r2:.2f}<br>\" \\\n",
    "                    f\"RMSE: {rmse:.2f}<br>Bias: {bias:.2f}<br>\" \\\n",
    "                    f\"NSE: {nse:.2f}<br>KGE: {kge:.2f}<br>\",\n",
    "                showarrow=False,\n",
    "                align=\"left\",\n",
    "                font=dict(size=12)\n",
    "            )\n",
    "        ]\n",
    "    )\n",
    "\n",
    "    # Show the plot\n",
    "    fig.write_html(f'{output_path}/pyfao56_vs_Mesonet_{comment}_{et}.html')\n",
    "    fig.show()\n",
    "    # Save the dataframe\n",
    "    stat_df.to_csv(f'{output_path}/pyfao56_vs_Mesonet_{comment}_{et}.csv')"
   ]
  },
  {
   "cell_type": "code",
   "execution_count": 108,
   "metadata": {
    "jupyter": {
     "source_hidden": true
    }
   },
   "outputs": [
    {
     "name": "stdout",
     "output_type": "stream",
     "text": [
      "Hourly\n",
      "Timestamp 2023-05-08 08:00:00 is missing data.\n",
      "Timestamp 2023-05-08 09:00:00 is missing data.\n",
      "Timestamp 2023-05-08 10:00:00 is missing data.\n",
      "Timestamp 2023-05-08 11:00:00 is missing data.\n",
      "Timestamp 2023-05-08 12:00:00 is missing data.\n",
      "Timestamp 2023-09-12 10:00:00 is missing data.\n",
      "Timestamp 2023-09-12 11:00:00 is missing data.\n",
      "Timestamp 2023-09-12 12:00:00 is missing data.\n",
      "Timestamp 2023-09-12 13:00:00 is missing data.\n",
      "Timestamp 2023-09-12 14:00:00 is missing data.\n",
      "Timestamp 2023-09-12 15:00:00 is missing data.\n",
      "Timestamp 2023-09-12 16:00:00 is missing data.\n",
      "Timestamp 2023-09-25 10:00:00 is missing data.\n",
      "Timestamp 2023-09-25 11:00:00 is missing data.\n",
      "Timestamp 2023-09-25 12:00:00 is missing data.\n",
      "Timestamp 2023-09-25 13:00:00 is missing data.\n",
      "Timestamp 2023-09-25 14:00:00 is missing data.\n",
      "Timestamp 2023-09-25 15:00:00 is missing data.\n"
     ]
    },
    {
     "data": {
      "application/vnd.plotly.v1+json": {
       "config": {
        "plotlyServerURL": "https://plot.ly"
       },
       "data": [
        {
         "hoverinfo": "text+x+y",
         "hovertext": [
          0,
          1,
          2,
          3,
          4,
          5,
          6,
          7,
          8,
          9,
          10,
          11,
          12,
          13,
          14,
          15,
          16,
          17,
          18,
          19,
          20,
          21,
          22,
          23,
          24,
          25,
          26,
          27,
          28,
          29,
          30,
          31,
          32,
          33,
          34,
          35,
          36,
          37,
          38,
          39,
          40,
          41,
          42,
          43,
          44,
          45,
          46,
          47,
          48,
          49,
          50,
          51,
          52,
          53,
          54,
          55,
          56,
          57,
          58,
          59,
          60,
          61,
          62,
          63,
          64,
          65,
          66,
          67,
          68,
          69,
          70,
          71,
          72,
          73,
          74,
          75,
          76,
          77,
          78,
          79,
          80,
          81,
          82,
          83,
          84,
          85,
          86,
          87,
          88,
          89,
          90,
          91,
          92,
          93,
          94,
          95,
          96,
          97,
          98,
          99,
          100,
          101,
          102,
          103,
          104,
          105,
          106,
          107,
          108,
          109,
          110,
          111,
          112,
          113,
          114,
          115,
          116,
          117,
          118,
          119,
          120,
          121,
          122,
          123,
          124,
          125,
          126,
          127,
          128,
          129,
          130,
          131,
          132,
          133,
          134,
          135,
          136,
          137,
          138,
          139,
          140,
          141,
          142,
          143,
          144,
          145,
          146,
          147,
          148,
          149,
          150,
          151,
          152,
          153,
          154,
          155,
          156,
          157,
          158,
          159,
          160,
          161,
          162,
          163,
          164,
          165,
          166,
          167,
          168,
          169,
          170,
          171,
          172,
          173,
          174,
          175,
          176,
          177,
          178,
          179,
          180,
          181,
          182,
          183,
          184,
          185,
          186,
          187,
          188,
          189,
          190,
          191,
          192,
          193,
          194,
          195,
          196,
          197,
          198,
          199,
          200,
          201,
          202,
          203,
          204,
          205,
          206,
          207,
          208,
          209,
          210,
          211,
          212,
          213,
          214,
          215,
          216,
          217,
          218,
          219,
          220,
          221,
          222,
          223,
          224,
          225,
          226,
          227,
          228,
          229,
          230,
          231,
          232,
          233,
          234,
          235,
          236,
          237,
          238,
          239,
          240,
          241,
          242,
          243,
          244,
          245,
          246,
          247,
          248,
          249,
          250,
          251,
          252,
          253,
          254,
          255,
          256,
          257,
          258,
          259,
          260,
          261,
          262,
          263,
          264,
          265,
          266,
          267,
          268,
          269,
          270,
          271,
          272,
          273,
          274,
          275,
          276,
          277,
          278,
          279,
          280,
          281,
          282,
          283,
          284,
          285,
          286,
          287,
          288,
          289,
          290,
          291,
          292,
          293,
          294,
          295,
          296,
          297,
          298,
          299,
          300,
          301,
          302,
          303,
          304,
          305,
          306,
          307,
          308,
          309,
          310,
          311,
          312,
          313,
          314,
          315,
          316,
          317,
          318,
          319,
          320,
          321,
          322,
          323,
          324,
          325,
          326,
          327,
          328,
          329,
          330,
          331,
          332,
          333,
          334,
          335,
          336,
          337,
          338,
          339,
          340,
          341,
          342,
          343,
          344,
          345,
          346,
          347,
          348,
          349,
          350,
          351,
          352,
          353,
          354,
          355,
          356,
          357,
          358,
          359,
          360,
          361,
          362,
          363,
          364
         ],
         "mode": "markers",
         "type": "scatter",
         "x": [
          0.4487157954049543,
          0.2333035712772677,
          0.7400568112820122,
          0.662128484532569,
          0.3880639899541405,
          0.5630530125759804,
          0.7098158734686657,
          0.42707524728664087,
          0.924932985005209,
          1.0797915495039743,
          0.2696914737783565,
          0.4897873004974964,
          0.5496332283897806,
          0.9757986707468663,
          0.8145733017450805,
          0.6633704816641646,
          0.691797855392356,
          0.5737322453979862,
          0.6849447391072568,
          0.6387573597899925,
          0.8898385978170388,
          1.0384094473901169,
          0.6771866871363081,
          0.9087522870275905,
          1.3788468442092974,
          1.1877982453292872,
          0.7862388069825271,
          0.51250449405351,
          0.3713114269617791,
          0.42841573834151725,
          0.6215368065025079,
          0.9832019212046005,
          1.1989134731277038,
          1.2259297232686774,
          1.9313510257160105,
          1.143338219010789,
          1.8165605283237973,
          1.4396764335644108,
          1.4836332050423542,
          1.749630952523093,
          1.0474764008638369,
          1.4056435916881376,
          1.4906554051803569,
          1.4726271800408162,
          3.3113564994859335,
          0.6553450755984581,
          1.4342052796443814,
          1.5491349202830291,
          1.116232745312511,
          2.5522075677242357,
          1.914370982942022,
          1.619317489070145,
          0.5332741794255133,
          0.783031190186843,
          1.1202630687879607,
          1.8550377360305232,
          2.168295064410105,
          3.883267211141217,
          3.3007863699744973,
          1.0689642995377033,
          2.175279382123818,
          1.6869265996881273,
          1.9304646128645664,
          3.3958411014698022,
          2.342276951300806,
          0.9176717491028623,
          1.7098992109653564,
          4.212212647486063,
          2.063349597085222,
          5.83260796076628,
          2.525601549171617,
          3.1202963599514257,
          3.566608845381905,
          4.727302250558006,
          3.7438016313015385,
          4.249009752864245,
          4.229891882863089,
          3.975744349495601,
          4.489024127216365,
          5.634376075756661,
          1.4440548837712586,
          3.4026504830989466,
          3.3039592160595515,
          3.4015769931253157,
          3.3173184120547043,
          1.9736149003867451,
          2.4500876738245334,
          2.0439814737593216,
          3.1430596456675897,
          5.728061171613379,
          5.506894672207893,
          7.5967261030032125,
          4.2684045131000845,
          1.5376354164240449,
          3.3039183601958535,
          4.16148865963415,
          5.353732128782007,
          4.630166457213014,
          5.44078776702832,
          5.487891488422536,
          7.010294637199593,
          7.2647578114232525,
          6.021083071273882,
          1.8100723410028914,
          4.611772403357232,
          5.295892210935019,
          6.6434492086873975,
          6.92725559106071,
          4.323312254143477,
          6.845611857155757,
          3.565960655494299,
          2.1263490193855,
          4.642940639481075,
          5.767375261676415,
          1.957603986886948,
          3.892393750414888,
          5.921050911990826,
          6.385174931795849,
          7.35806905474012,
          5.989758406121676,
          4.769494698416823,
          7.950072198766085,
          6.087655048798576,
          5.810833005546185,
          7.3495180214465465,
          7.444417404896226,
          6.1987089673549995,
          5.016972264253264,
          8.140370564591425,
          2.06890472084447,
          1.1124169808042983,
          4.381336067176339,
          4.527519857977774,
          2.2978975202030525,
          2.6708585783779397,
          6.37246843025681,
          6.548196634357916,
          2.8018193668493465,
          3.353354972284021,
          4.671837899466623,
          7.314773553250326,
          6.044866728313519,
          6.585665560844109,
          3.2183800954548127,
          7.032542251135955,
          4.671147240289295,
          5.809278662124689,
          5.899367609916208,
          6.952420511671873,
          7.902438572036876,
          5.415532012782962,
          4.940832889084359,
          4.953612967386732,
          2.3621926548616488,
          2.587211007627937,
          5.1859583065015755,
          6.492207293109083,
          7.279743766658476,
          6.594284448747279,
          5.926803954430716,
          5.967250082253167,
          3.798991014728942,
          3.2816603680808223,
          3.1964255416302607,
          6.667770318272218,
          5.310572334846551,
          2.652946989980798,
          5.294833069620969,
          8.101460658523974,
          8.545253663090184,
          4.948726967636307,
          5.614345272681958,
          5.849234948839744,
          6.132454062172771,
          10.269389466546311,
          7.78411010660515,
          6.5773986981438535,
          7.334237786980362,
          7.857875752912086,
          6.689852894449299,
          3.438284283604435,
          7.331179260313198,
          7.970642295204029,
          7.577393866224055,
          5.599497875127809,
          1.3963244463297277,
          3.575401005705569,
          5.26122813863863,
          4.4741715566165885,
          5.213828957662413,
          6.547245314958251,
          6.547776835602267,
          7.322191259327215,
          8.649300929678208,
          7.9392204190671425,
          5.909751195022788,
          7.991339114275803,
          8.426844081910886,
          7.553490239501975,
          5.658291808746319,
          3.977489648314425,
          5.617321715662319,
          6.895070249049814,
          6.4593647241886405,
          6.742211737023767,
          5.852682412652624,
          6.224608213472975,
          7.184307053761054,
          5.6863553020644115,
          5.949475417250963,
          6.714624704469361,
          6.304548372006121,
          5.979060438755975,
          6.823884680759725,
          5.130267444555048,
          6.359571900263785,
          5.7659064670649265,
          4.080722493437695,
          4.823959179251142,
          5.424084825078062,
          6.678432916704609,
          6.251584286142327,
          6.1425590709853815,
          5.250178860284329,
          6.530332088770404,
          5.569815787969135,
          6.769742449741172,
          9.09203718673584,
          7.654667701093386,
          6.199102318855297,
          6.507765067962778,
          5.9440888116437645,
          7.257641975254894,
          7.319015757532308,
          6.660057673618979,
          5.398214144974118,
          1.7290685284170162,
          5.386797853469573,
          4.393103446029347,
          4.8160617611285135,
          6.0560036522165674,
          6.172183440750772,
          7.970667026257699,
          6.2620735486095445,
          5.591362079846181,
          5.7669055851527355,
          6.962331816793542,
          7.0347674740357276,
          5.564313053851992,
          6.257423174361417,
          5.4315379718156445,
          6.606580800520851,
          1.4728367087910215,
          3.693980816294746,
          0.5223988235319399,
          4.866518549558407,
          4.822332618384252,
          2.9028730579408015,
          4.406636546781973,
          4.864561573380213,
          5.1608043652017885,
          4.641992750568268,
          5.733173928863421,
          5.149078623023503,
          5.066012011038625,
          5.529715950769178,
          4.252518836073925,
          1.0309261451101874,
          4.873960304650174,
          5.328613576867129,
          6.005340818063351,
          5.495037350335027,
          4.706033293971251,
          9.192556859570693,
          5.922579258882925,
          3.996533763965965,
          4.147000977643025,
          3.0858175292636414,
          2.0533541370569965,
          3.3277305964694834,
          4.247763346184964,
          3.779326295542084,
          4.1642050154068135,
          4.1341019438227224,
          3.318543997239664,
          4.340916108070467,
          1.7450749724749344,
          3.67725257137067,
          2.7211584722198006,
          3.9102913966689394,
          4.326917925393756,
          4.282904589807204,
          3.9613263088988124,
          4.226324655822185,
          2.8441938741799633,
          3.2730418830379584,
          2.660107525220104,
          0.9106506924394748,
          0.6230897727606225,
          1.8220941139688138,
          0.4635797124394421,
          1.1239602609489214,
          1.4939201217587184,
          1.7073529255778541,
          1.4388055712238832,
          2.6018106503509517,
          2.781146561796596,
          2.58082144274178,
          2.122764018566946,
          2.687402943026886,
          3.6722106313903784,
          1.6317446904451753,
          2.2936202133975168,
          2.429427046247957,
          2.042646921910007,
          2.8920675916564003,
          1.8999943814891482,
          2.6176614110006744,
          2.2565647769163855,
          1.7919302312839955,
          1.4349967081508332,
          1.4908022356935773,
          2.5711675497637914,
          2.420413905732134,
          1.6746678472459686,
          1.6050961126147987,
          1.2103030375826305,
          0.4838304295209749,
          0.35216879994717093,
          0.8266023369640735,
          0.9077165796975566,
          1.121381352694112,
          1.1545414803205272,
          0.8127564914268092,
          0.4837670904362036,
          1.5786967027538417,
          2.171810881607817,
          1.8596243346565295,
          0.9035870321547791,
          1.0042064340629944,
          3.2215055856791417,
          1.6250582699061735,
          2.068760442988705,
          0.8444971076064449,
          1.5229079705693636,
          0.3084071826086147,
          1.0404546338684666,
          0.17606013958216887,
          2.8176788655869274,
          1.147546627551214,
          2.813910915985386,
          0.8678434109704841,
          1.2625567504299915,
          1.673384727054164,
          1.47888017481329,
          1.1798033498410425,
          1.0273312247529252,
          1.6383203455029265,
          2.1683310561861093,
          3.040867233961623,
          3.540286498032931,
          1.1091401290877645,
          1.797909815422655,
          1.4332606999906725,
          0.9568857924807247
         ],
         "y": [
          0.66,
          0.26,
          0.77,
          0.72,
          0.44,
          0.62,
          0.8,
          0.49000000000000005,
          0.99,
          1.1300000000000001,
          0.3,
          0.53,
          0.5900000000000001,
          1.02,
          0.84,
          0.71,
          0.71,
          0.6,
          0.73,
          0.6900000000000001,
          0.9299999999999999,
          1.09,
          0.72,
          0.93,
          1.39,
          1.24,
          0.81,
          0.5,
          0.34,
          0.45,
          0.65,
          1,
          1.23,
          1.26,
          1.96,
          1.18,
          1.85,
          1.47,
          1.52,
          1.74,
          1.05,
          1.46,
          1.54,
          1.51,
          3.32,
          0.63,
          1.45,
          1.59,
          1.14,
          2.59,
          1.96,
          1.6500000000000001,
          0.52,
          0.78,
          1.1500000000000001,
          1.9200000000000002,
          2.19,
          3.93,
          3.3,
          1.09,
          2.18,
          1.7100000000000002,
          1.92,
          3.4,
          2.37,
          0.9400000000000001,
          1.73,
          4.2,
          2.1,
          5.84,
          2.54,
          3.16,
          3.58,
          4.73,
          3.7199999999999998,
          4.23,
          4.24,
          4.0200000000000005,
          4.7,
          5.62,
          1.43,
          3.4,
          3.34,
          3.38,
          3.32,
          2.0100000000000002,
          2.49,
          2.09,
          3.35,
          5.76,
          5.53,
          7.61,
          4.29,
          1.56,
          3.31,
          4.21,
          5.38,
          4.65,
          5.48,
          5.58,
          7.09,
          7.28,
          6.04,
          1.82,
          4.6,
          5.33,
          6.68,
          7.37,
          4.35,
          6.86,
          3.58,
          2.17,
          4.66,
          5.81,
          1.98,
          3.93,
          5.97,
          6.39,
          7.39,
          6.01,
          4.79,
          8.14,
          6.12,
          5.83,
          7.32,
          7.45,
          6.23,
          6.69,
          8.17,
          2.09,
          1.12,
          4.39,
          4.56,
          2.31,
          2.61,
          6.38,
          6.62,
          2.87,
          3.46,
          4.78,
          7.43,
          6.13,
          6.65,
          3.25,
          7.06,
          4.71,
          5.83,
          6.03,
          7.05,
          7.9799999999999995,
          5.48,
          5,
          5.01,
          2.42,
          2.66,
          5.26,
          6.54,
          7.31,
          6.67,
          5.95,
          6.01,
          3.84,
          3.3000000000000003,
          3.26,
          6.76,
          5.34,
          2.66,
          5.39,
          8.21,
          8.7,
          5.08,
          5.72,
          5.92,
          6.23,
          10.34,
          7.89,
          6.69,
          7.430000000000001,
          7.97,
          7.24,
          3.51,
          7.41,
          8.08,
          7.640000000000001,
          5.61,
          1.4200000000000002,
          3.61,
          5.31,
          4.51,
          5.29,
          6.68,
          6.640000000000001,
          7.37,
          8.77,
          8.03,
          6.07,
          8.13,
          8.54,
          7.62,
          5.72,
          4.04,
          5.69,
          6.97,
          6.609999999999999,
          6.85,
          5.95,
          6.32,
          7.26,
          5.79,
          6.07,
          6.88,
          6.48,
          6.04,
          6.9,
          5.17,
          6.4,
          5.7299999999999995,
          3.9099999999999997,
          5.05,
          5.6899999999999995,
          6.77,
          6.36,
          6.21,
          5.32,
          6.68,
          5.65,
          6.88,
          9.19,
          7.72,
          6.28,
          6.56,
          6.05,
          7.38,
          7.44,
          6.77,
          5.49,
          1.74,
          5.4399999999999995,
          4.49,
          4.91,
          6.18,
          6.34,
          8.11,
          6.35,
          5.66,
          5.83,
          7.05,
          7.16,
          5.72,
          6.37,
          5.61,
          6.7,
          1.51,
          3.7600000000000002,
          3.54,
          4.99,
          4.88,
          3,
          4.53,
          4.9799999999999995,
          5.24,
          4.7,
          5.8100000000000005,
          5.19,
          5.16,
          5.58,
          4.33,
          3.4,
          4.96,
          5.43,
          6.25,
          5.58,
          4.81,
          9.290000000000001,
          6.41,
          4.06,
          4.21,
          3.18,
          2.14,
          3.46,
          4.34,
          3.87,
          4.25,
          4.18,
          3.34,
          4.37,
          1.82,
          3.96,
          2.87,
          3.87,
          4.72,
          4.4799999999999995,
          4.02,
          4.32,
          2.95,
          3.38,
          2.75,
          0.9600000000000001,
          0.66,
          1.86,
          0.46,
          1.1300000000000001,
          1.57,
          1.78,
          1.53,
          2.7,
          2.89,
          2.69,
          2.25,
          2.77,
          3.71,
          1.68,
          2.36,
          2.5,
          2.09,
          2.96,
          1.95,
          2.69,
          2.29,
          1.84,
          1.57,
          1.57,
          2.6300000000000003,
          2.64,
          1.77,
          1.67,
          1.24,
          0.43,
          0.34,
          0.87,
          0.9500000000000001,
          1.16,
          1.2,
          0.86,
          0.55,
          1.68,
          2.22,
          1.94,
          1,
          1.11,
          3.26,
          1.68,
          2.09,
          0.88,
          1.6,
          0.31,
          1.08,
          0.17,
          2.85,
          1.23,
          2.87,
          0.94,
          1.35,
          1.71,
          1.5,
          1.25,
          1.08,
          1.65,
          2.19,
          3.19,
          3.58,
          1.2,
          1.89,
          1.53,
          1.05
         ]
        },
        {
         "line": {
          "color": "gray",
          "dash": "dash"
         },
         "mode": "lines",
         "showlegend": false,
         "type": "scatter",
         "x": [
          0.17606013958216887,
          10.269389466546311
         ],
         "y": [
          0.17606013958216887,
          10.269389466546311
         ]
        }
       ],
       "layout": {
        "annotations": [
         {
          "align": "left",
          "font": {
           "size": 12
          },
          "showarrow": false,
          "text": "R2: 0.99<br>RMSE: 0.24<br>Bias: -30.49<br>NSE: 0.99<br>KGE: 0.98<br>",
          "x": 1,
          "xref": "paper",
          "y": 0.8,
          "yref": "paper"
         }
        ],
        "template": {
         "data": {
          "bar": [
           {
            "error_x": {
             "color": "#2a3f5f"
            },
            "error_y": {
             "color": "#2a3f5f"
            },
            "marker": {
             "line": {
              "color": "#E5ECF6",
              "width": 0.5
             },
             "pattern": {
              "fillmode": "overlay",
              "size": 10,
              "solidity": 0.2
             }
            },
            "type": "bar"
           }
          ],
          "barpolar": [
           {
            "marker": {
             "line": {
              "color": "#E5ECF6",
              "width": 0.5
             },
             "pattern": {
              "fillmode": "overlay",
              "size": 10,
              "solidity": 0.2
             }
            },
            "type": "barpolar"
           }
          ],
          "carpet": [
           {
            "aaxis": {
             "endlinecolor": "#2a3f5f",
             "gridcolor": "white",
             "linecolor": "white",
             "minorgridcolor": "white",
             "startlinecolor": "#2a3f5f"
            },
            "baxis": {
             "endlinecolor": "#2a3f5f",
             "gridcolor": "white",
             "linecolor": "white",
             "minorgridcolor": "white",
             "startlinecolor": "#2a3f5f"
            },
            "type": "carpet"
           }
          ],
          "choropleth": [
           {
            "colorbar": {
             "outlinewidth": 0,
             "ticks": ""
            },
            "type": "choropleth"
           }
          ],
          "contour": [
           {
            "colorbar": {
             "outlinewidth": 0,
             "ticks": ""
            },
            "colorscale": [
             [
              0,
              "#0d0887"
             ],
             [
              0.1111111111111111,
              "#46039f"
             ],
             [
              0.2222222222222222,
              "#7201a8"
             ],
             [
              0.3333333333333333,
              "#9c179e"
             ],
             [
              0.4444444444444444,
              "#bd3786"
             ],
             [
              0.5555555555555556,
              "#d8576b"
             ],
             [
              0.6666666666666666,
              "#ed7953"
             ],
             [
              0.7777777777777778,
              "#fb9f3a"
             ],
             [
              0.8888888888888888,
              "#fdca26"
             ],
             [
              1,
              "#f0f921"
             ]
            ],
            "type": "contour"
           }
          ],
          "contourcarpet": [
           {
            "colorbar": {
             "outlinewidth": 0,
             "ticks": ""
            },
            "type": "contourcarpet"
           }
          ],
          "heatmap": [
           {
            "colorbar": {
             "outlinewidth": 0,
             "ticks": ""
            },
            "colorscale": [
             [
              0,
              "#0d0887"
             ],
             [
              0.1111111111111111,
              "#46039f"
             ],
             [
              0.2222222222222222,
              "#7201a8"
             ],
             [
              0.3333333333333333,
              "#9c179e"
             ],
             [
              0.4444444444444444,
              "#bd3786"
             ],
             [
              0.5555555555555556,
              "#d8576b"
             ],
             [
              0.6666666666666666,
              "#ed7953"
             ],
             [
              0.7777777777777778,
              "#fb9f3a"
             ],
             [
              0.8888888888888888,
              "#fdca26"
             ],
             [
              1,
              "#f0f921"
             ]
            ],
            "type": "heatmap"
           }
          ],
          "heatmapgl": [
           {
            "colorbar": {
             "outlinewidth": 0,
             "ticks": ""
            },
            "colorscale": [
             [
              0,
              "#0d0887"
             ],
             [
              0.1111111111111111,
              "#46039f"
             ],
             [
              0.2222222222222222,
              "#7201a8"
             ],
             [
              0.3333333333333333,
              "#9c179e"
             ],
             [
              0.4444444444444444,
              "#bd3786"
             ],
             [
              0.5555555555555556,
              "#d8576b"
             ],
             [
              0.6666666666666666,
              "#ed7953"
             ],
             [
              0.7777777777777778,
              "#fb9f3a"
             ],
             [
              0.8888888888888888,
              "#fdca26"
             ],
             [
              1,
              "#f0f921"
             ]
            ],
            "type": "heatmapgl"
           }
          ],
          "histogram": [
           {
            "marker": {
             "pattern": {
              "fillmode": "overlay",
              "size": 10,
              "solidity": 0.2
             }
            },
            "type": "histogram"
           }
          ],
          "histogram2d": [
           {
            "colorbar": {
             "outlinewidth": 0,
             "ticks": ""
            },
            "colorscale": [
             [
              0,
              "#0d0887"
             ],
             [
              0.1111111111111111,
              "#46039f"
             ],
             [
              0.2222222222222222,
              "#7201a8"
             ],
             [
              0.3333333333333333,
              "#9c179e"
             ],
             [
              0.4444444444444444,
              "#bd3786"
             ],
             [
              0.5555555555555556,
              "#d8576b"
             ],
             [
              0.6666666666666666,
              "#ed7953"
             ],
             [
              0.7777777777777778,
              "#fb9f3a"
             ],
             [
              0.8888888888888888,
              "#fdca26"
             ],
             [
              1,
              "#f0f921"
             ]
            ],
            "type": "histogram2d"
           }
          ],
          "histogram2dcontour": [
           {
            "colorbar": {
             "outlinewidth": 0,
             "ticks": ""
            },
            "colorscale": [
             [
              0,
              "#0d0887"
             ],
             [
              0.1111111111111111,
              "#46039f"
             ],
             [
              0.2222222222222222,
              "#7201a8"
             ],
             [
              0.3333333333333333,
              "#9c179e"
             ],
             [
              0.4444444444444444,
              "#bd3786"
             ],
             [
              0.5555555555555556,
              "#d8576b"
             ],
             [
              0.6666666666666666,
              "#ed7953"
             ],
             [
              0.7777777777777778,
              "#fb9f3a"
             ],
             [
              0.8888888888888888,
              "#fdca26"
             ],
             [
              1,
              "#f0f921"
             ]
            ],
            "type": "histogram2dcontour"
           }
          ],
          "mesh3d": [
           {
            "colorbar": {
             "outlinewidth": 0,
             "ticks": ""
            },
            "type": "mesh3d"
           }
          ],
          "parcoords": [
           {
            "line": {
             "colorbar": {
              "outlinewidth": 0,
              "ticks": ""
             }
            },
            "type": "parcoords"
           }
          ],
          "pie": [
           {
            "automargin": true,
            "type": "pie"
           }
          ],
          "scatter": [
           {
            "fillpattern": {
             "fillmode": "overlay",
             "size": 10,
             "solidity": 0.2
            },
            "type": "scatter"
           }
          ],
          "scatter3d": [
           {
            "line": {
             "colorbar": {
              "outlinewidth": 0,
              "ticks": ""
             }
            },
            "marker": {
             "colorbar": {
              "outlinewidth": 0,
              "ticks": ""
             }
            },
            "type": "scatter3d"
           }
          ],
          "scattercarpet": [
           {
            "marker": {
             "colorbar": {
              "outlinewidth": 0,
              "ticks": ""
             }
            },
            "type": "scattercarpet"
           }
          ],
          "scattergeo": [
           {
            "marker": {
             "colorbar": {
              "outlinewidth": 0,
              "ticks": ""
             }
            },
            "type": "scattergeo"
           }
          ],
          "scattergl": [
           {
            "marker": {
             "colorbar": {
              "outlinewidth": 0,
              "ticks": ""
             }
            },
            "type": "scattergl"
           }
          ],
          "scattermapbox": [
           {
            "marker": {
             "colorbar": {
              "outlinewidth": 0,
              "ticks": ""
             }
            },
            "type": "scattermapbox"
           }
          ],
          "scatterpolar": [
           {
            "marker": {
             "colorbar": {
              "outlinewidth": 0,
              "ticks": ""
             }
            },
            "type": "scatterpolar"
           }
          ],
          "scatterpolargl": [
           {
            "marker": {
             "colorbar": {
              "outlinewidth": 0,
              "ticks": ""
             }
            },
            "type": "scatterpolargl"
           }
          ],
          "scatterternary": [
           {
            "marker": {
             "colorbar": {
              "outlinewidth": 0,
              "ticks": ""
             }
            },
            "type": "scatterternary"
           }
          ],
          "surface": [
           {
            "colorbar": {
             "outlinewidth": 0,
             "ticks": ""
            },
            "colorscale": [
             [
              0,
              "#0d0887"
             ],
             [
              0.1111111111111111,
              "#46039f"
             ],
             [
              0.2222222222222222,
              "#7201a8"
             ],
             [
              0.3333333333333333,
              "#9c179e"
             ],
             [
              0.4444444444444444,
              "#bd3786"
             ],
             [
              0.5555555555555556,
              "#d8576b"
             ],
             [
              0.6666666666666666,
              "#ed7953"
             ],
             [
              0.7777777777777778,
              "#fb9f3a"
             ],
             [
              0.8888888888888888,
              "#fdca26"
             ],
             [
              1,
              "#f0f921"
             ]
            ],
            "type": "surface"
           }
          ],
          "table": [
           {
            "cells": {
             "fill": {
              "color": "#EBF0F8"
             },
             "line": {
              "color": "white"
             }
            },
            "header": {
             "fill": {
              "color": "#C8D4E3"
             },
             "line": {
              "color": "white"
             }
            },
            "type": "table"
           }
          ]
         },
         "layout": {
          "annotationdefaults": {
           "arrowcolor": "#2a3f5f",
           "arrowhead": 0,
           "arrowwidth": 1
          },
          "autotypenumbers": "strict",
          "coloraxis": {
           "colorbar": {
            "outlinewidth": 0,
            "ticks": ""
           }
          },
          "colorscale": {
           "diverging": [
            [
             0,
             "#8e0152"
            ],
            [
             0.1,
             "#c51b7d"
            ],
            [
             0.2,
             "#de77ae"
            ],
            [
             0.3,
             "#f1b6da"
            ],
            [
             0.4,
             "#fde0ef"
            ],
            [
             0.5,
             "#f7f7f7"
            ],
            [
             0.6,
             "#e6f5d0"
            ],
            [
             0.7,
             "#b8e186"
            ],
            [
             0.8,
             "#7fbc41"
            ],
            [
             0.9,
             "#4d9221"
            ],
            [
             1,
             "#276419"
            ]
           ],
           "sequential": [
            [
             0,
             "#0d0887"
            ],
            [
             0.1111111111111111,
             "#46039f"
            ],
            [
             0.2222222222222222,
             "#7201a8"
            ],
            [
             0.3333333333333333,
             "#9c179e"
            ],
            [
             0.4444444444444444,
             "#bd3786"
            ],
            [
             0.5555555555555556,
             "#d8576b"
            ],
            [
             0.6666666666666666,
             "#ed7953"
            ],
            [
             0.7777777777777778,
             "#fb9f3a"
            ],
            [
             0.8888888888888888,
             "#fdca26"
            ],
            [
             1,
             "#f0f921"
            ]
           ],
           "sequentialminus": [
            [
             0,
             "#0d0887"
            ],
            [
             0.1111111111111111,
             "#46039f"
            ],
            [
             0.2222222222222222,
             "#7201a8"
            ],
            [
             0.3333333333333333,
             "#9c179e"
            ],
            [
             0.4444444444444444,
             "#bd3786"
            ],
            [
             0.5555555555555556,
             "#d8576b"
            ],
            [
             0.6666666666666666,
             "#ed7953"
            ],
            [
             0.7777777777777778,
             "#fb9f3a"
            ],
            [
             0.8888888888888888,
             "#fdca26"
            ],
            [
             1,
             "#f0f921"
            ]
           ]
          },
          "colorway": [
           "#636efa",
           "#EF553B",
           "#00cc96",
           "#ab63fa",
           "#FFA15A",
           "#19d3f3",
           "#FF6692",
           "#B6E880",
           "#FF97FF",
           "#FECB52"
          ],
          "font": {
           "color": "#2a3f5f"
          },
          "geo": {
           "bgcolor": "white",
           "lakecolor": "white",
           "landcolor": "#E5ECF6",
           "showlakes": true,
           "showland": true,
           "subunitcolor": "white"
          },
          "hoverlabel": {
           "align": "left"
          },
          "hovermode": "closest",
          "mapbox": {
           "style": "light"
          },
          "paper_bgcolor": "white",
          "plot_bgcolor": "#E5ECF6",
          "polar": {
           "angularaxis": {
            "gridcolor": "white",
            "linecolor": "white",
            "ticks": ""
           },
           "bgcolor": "#E5ECF6",
           "radialaxis": {
            "gridcolor": "white",
            "linecolor": "white",
            "ticks": ""
           }
          },
          "scene": {
           "xaxis": {
            "backgroundcolor": "#E5ECF6",
            "gridcolor": "white",
            "gridwidth": 2,
            "linecolor": "white",
            "showbackground": true,
            "ticks": "",
            "zerolinecolor": "white"
           },
           "yaxis": {
            "backgroundcolor": "#E5ECF6",
            "gridcolor": "white",
            "gridwidth": 2,
            "linecolor": "white",
            "showbackground": true,
            "ticks": "",
            "zerolinecolor": "white"
           },
           "zaxis": {
            "backgroundcolor": "#E5ECF6",
            "gridcolor": "white",
            "gridwidth": 2,
            "linecolor": "white",
            "showbackground": true,
            "ticks": "",
            "zerolinecolor": "white"
           }
          },
          "shapedefaults": {
           "line": {
            "color": "#2a3f5f"
           }
          },
          "ternary": {
           "aaxis": {
            "gridcolor": "white",
            "linecolor": "white",
            "ticks": ""
           },
           "baxis": {
            "gridcolor": "white",
            "linecolor": "white",
            "ticks": ""
           },
           "bgcolor": "#E5ECF6",
           "caxis": {
            "gridcolor": "white",
            "linecolor": "white",
            "ticks": ""
           }
          },
          "title": {
           "x": 0.05
          },
          "xaxis": {
           "automargin": true,
           "gridcolor": "white",
           "linecolor": "white",
           "ticks": "",
           "title": {
            "standoff": 15
           },
           "zerolinecolor": "white",
           "zerolinewidth": 2
          },
          "yaxis": {
           "automargin": true,
           "gridcolor": "white",
           "linecolor": "white",
           "ticks": "",
           "title": {
            "standoff": 15
           },
           "zerolinecolor": "white",
           "zerolinewidth": 2
          }
         }
        },
        "title": {
         "text": "CO-GLY04 Hourly Sum ETr"
        },
        "xaxis": {
         "title": {
          "text": "pyfao56 ETr (mm/d)"
         }
        },
        "yaxis": {
         "title": {
          "text": "Mesonet ETr (mm/d)"
         }
        }
       }
      }
     },
     "metadata": {},
     "output_type": "display_data"
    },
    {
     "name": "stdout",
     "output_type": "stream",
     "text": [
      "Complete!\n"
     ]
    }
   ],
   "source": [
    "if time_format == 'Hourly':\n",
    "    hourly_df, daily_df = compute_et_hourly(input_df, rfcrp, z, lat, lon, lzn, wndht, comment)\n",
    "    if make_wth:\n",
    "        to_wth(daily_df,rfcrp,comment)\n",
    "elif time_format == 'Daily':\n",
    "    daily_df = compute_et_daily(input_df, rfcrp, z, lat, wndht, comment) \n",
    "    if make_wth:\n",
    "        to_wth(daily_df,rfcrp,comment)   \n",
    "compute_statistics(daily_df,rfcrp,comment)\n",
    "print('Complete!')"
   ]
  }
 ],
 "metadata": {
  "celltoolbar": "Tags",
  "kernelspec": {
   "display_name": "pyfao_jupyter",
   "language": "python",
   "name": "python3"
  },
  "language_info": {
   "codemirror_mode": {
    "name": "ipython",
    "version": 3
   },
   "file_extension": ".py",
   "mimetype": "text/x-python",
   "name": "python",
   "nbconvert_exporter": "python",
   "pygments_lexer": "ipython3",
   "version": "3.9.21"
  }
 },
 "nbformat": 4,
 "nbformat_minor": 4
}
