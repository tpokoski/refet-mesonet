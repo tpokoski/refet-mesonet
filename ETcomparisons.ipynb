{
 "cells": [
  {
   "cell_type": "markdown",
   "metadata": {},
   "source": [
    "# Reference Evapotranspiration Comparison: State Mesonet vs pyFAO56\n",
    "This Jupyter Notebook contains a script to compare a state's Mesonet calculation of reference evapotranspiration (ETr or ETo) with the reference ET calculated using the FAO-56 Penman-Monteith equation, via a python package pyfao56. \n",
    "Using Hourly or Daily data, fill out the columns in the respective excel template, and run the script below. "
   ]
  },
  {
   "cell_type": "code",
   "execution_count": 64,
   "metadata": {
    "jupyter": {
     "source_hidden": true
    }
   },
   "outputs": [],
   "source": [
    "# Required packages for the script\n",
    "import pyfao56 as fao\n",
    "from pyfao56 import tools\n",
    "import pandas as pd\n",
    "import numpy as np\n",
    "import plotly.graph_objects as go"
   ]
  },
  {
   "cell_type": "markdown",
   "metadata": {},
   "source": [
    "# Alter the information below to find your inputted data. "
   ]
  },
  {
   "cell_type": "code",
   "execution_count": 65,
   "metadata": {},
   "outputs": [],
   "source": [
    "# Import the weather data from your Excel file\n",
    "input_file = 'input/CO/GLY04_2023.xlsx'\n",
    "output_path = 'output/CO/'\n",
    "\n",
    "# Time format of your data? Daily or Hourly\n",
    "time_format = 'Hourly'\n",
    "\n",
    "# Do you want to make a pyfao56 Weather Object? True/False\n",
    "make_wth = False\n",
    "\n",
    "# Enter a comment for file export names\n",
    "comment = 'GLY04'\n",
    "state = 'CO'\n",
    "\n",
    "\n",
    "# Weather station Parameters:\n",
    "\n",
    "# Height of the Reference Crop, \"T\" for alfalfa or \"S\" for grass\n",
    "rfcrp = \"S\"\n",
    "\n",
    "# Elevation, Latitude, and Longitude of the Weather Station\n",
    "z     = 1427.3784\n",
    "lat   = 40.4487\n",
    "lon   = -104.6380\n",
    "\n",
    "# Longitude of the center of the local time zone\n",
    "lzn = -105\n",
    "\n",
    "# Enter the height of the wind measurement at your station (m)\n",
    "wndht = 2"
   ]
  },
  {
   "cell_type": "markdown",
   "metadata": {},
   "source": [
    "# Run All cells, and it will create files in the output folder"
   ]
  },
  {
   "cell_type": "code",
   "execution_count": 66,
   "metadata": {
    "jupyter": {
     "source_hidden": true
    },
    "tags": [
     "hide-input"
    ]
   },
   "outputs": [],
   "source": [
    "input_df = pd.read_excel(input_file, time_format)\n",
    "# Remove unit row from the dataframe:\n",
    "input_df = input_df.iloc[1:]\n",
    "input_df.reset_index(drop=True, inplace=True)"
   ]
  },
  {
   "cell_type": "code",
   "execution_count": 67,
   "metadata": {
    "jupyter": {
     "source_hidden": true
    },
    "tags": [
     "hide-input"
    ]
   },
   "outputs": [],
   "source": [
    "def compute_et_hourly(df,rfcrp,z,lat,lon,lzn,wndht,comment):\n",
    "    print('Hourly')\n",
    "    # Change the data types of the dataframe columns\n",
    "    d_types = {'Date and Time':     'datetime64[ns]',\n",
    "                'Air Temp':         'float64',\n",
    "                'Relative Humidity':'float64',\n",
    "                'Dewpoint':         'float64',\n",
    "                'Vapor Pressure':   'float64',\n",
    "                'Solar Rad':        'float64',\n",
    "                'Precip':           'float64',\n",
    "                'Wind Speed':       'float64',\n",
    "                'ETr':              'float64',\n",
    "                'ETo':              'float64'}\n",
    "    for col, dtype in d_types.items():\n",
    "        df[col] = df[col].astype(dtype)\n",
    "        \n",
    "    # Rename columns to FAO56:\n",
    "    df.rename(columns={'Date and Time': 'Timestamp',\n",
    "                        'Solar Rad': 'Srad',\n",
    "                        'Air Temp': 'T',\n",
    "                        'Vapor Pressure': 'Vapr',\n",
    "                        'Dewpoint': 'Tdew',\n",
    "                        'Relative Humidity': 'RH',\n",
    "                        'Wind Speed': 'Wndsp',\n",
    "                        'Precip': 'Rain'}, inplace=True)\n",
    "\n",
    "    # Add Standard Clock Time (SCT) @ midpoint of the period\n",
    "    # SCT is determined by the hour of the datetime object, with an\n",
    "    # adjustment of -0.5 for all hours except midnight (0), for\n",
    "    # which the SCT is set to 23.5.\n",
    "    compute_sct = lambda DT: 23.5 if DT.hour == 0 else DT.hour - 0.5\n",
    "    df['SCT'] = df['Timestamp'].apply(compute_sct)\n",
    "    \n",
    "    \n",
    "    # pyfao56 returns cloudiness values (fcd) for next timestep\n",
    "    # fcd should make the calculations more accurate, so we use it\n",
    "    fcd_list = np.empty(len(df))\n",
    "    fcd_list.fill(np.nan)\n",
    "    # Loop through the dataframe to compute refET for each hour\n",
    "    et = np.empty(len(df))\n",
    "    et.fill(np.nan)\n",
    "    for row in df.itertuples():\n",
    "        idx = row.Index\n",
    "        prev_step = idx -1\n",
    "        temp = df['T'][idx]\n",
    "        rh = df['RH'][idx]\n",
    "        vapr = df['Vapr'][idx]\n",
    "        srad = df['Srad'][idx]\n",
    "        tdew = df['Tdew'][idx]\n",
    "        wind = df['Wndsp'][idx]\n",
    "        rain = df['Rain'][idx]\n",
    "        doy = df['DOY'][idx]\n",
    "        sct = df['SCT'][idx]\n",
    "        time = df['Timestamp'][idx]\n",
    "        if idx == 0:\n",
    "            fcd = 1.0\n",
    "        else:\n",
    "            fcd = fcd_list[prev_step]\n",
    "        # Checking for bad / missing data\n",
    "        values = [temp, rh, tdew, vapr, srad, rain, wind]\n",
    "        if -999 in values:\n",
    "            print(f\"Timestamp {time} is missing data.\")\n",
    "            continue\n",
    "        et_tuple = fao.refet.ascehourly(rfcrp=rfcrp,z=z,lat=lat,lon=lon,lzn=lzn,\n",
    "                                        doy=doy,sct=sct,israd=srad,tavg=temp,\n",
    "                                        vapr=vapr,tdew=tdew,rhum=rh,wndsp=wind,\n",
    "                                        wndht=wndht,tl=1.0,csreq='D',fcdpt=fcd)\n",
    "        fcd_list[idx] = et_tuple[1]\n",
    "        et[idx] = et_tuple[0]\n",
    "    df['refET'] = et\n",
    "\n",
    "    # Group by day\n",
    "    daily_df = df.groupby(\n",
    "        df['Timestamp'].dt.date).agg(\n",
    "            {'Srad': 'sum', 'T': ['max', 'min'], 'Vapr': 'mean', \n",
    "            'Tdew': 'mean', 'RH': ['max', 'min'],'Wndsp': 'mean', \n",
    "            'Rain': 'sum', 'ETr': 'sum', 'ETo': 'sum', 'refET': 'sum'})\n",
    "    # Drop level of column indexing (necessary after using groupby)\n",
    "    daily_df = daily_df.droplevel(1, axis=1)\n",
    "    daily_df.reset_index(inplace=True)\n",
    "    # Rename cols after grouping by date\n",
    "    daily_df.columns = [f'c{i}' for i in range(1, daily_df.shape[1]+1)]\n",
    "    column_names = {daily_df.columns[0]: 'Date',\n",
    "                    daily_df.columns[1]: 'Srad',\n",
    "                    daily_df.columns[2]: 'Tmax',\n",
    "                    daily_df.columns[3]: 'Tmin',\n",
    "                    daily_df.columns[4]: 'Vapr',\n",
    "                    daily_df.columns[5]: 'Tdew',\n",
    "                    daily_df.columns[6]: 'RHmax',\n",
    "                    daily_df.columns[7]: 'RHmin',\n",
    "                    daily_df.columns[8]: 'Wndsp',\n",
    "                    daily_df.columns[9]: 'Rain',\n",
    "                    daily_df.columns[10]: 'ETr',\n",
    "                    daily_df.columns[11]:'ETo',\n",
    "                    daily_df.columns[12]:'refET'}\n",
    "    daily_df.rename(columns=column_names, inplace=True)\n",
    "    \n",
    "    \n",
    "    return df,daily_df"
   ]
  },
  {
   "cell_type": "code",
   "execution_count": 68,
   "metadata": {
    "jupyter": {
     "source_hidden": true
    },
    "tags": [
     "hide-cell"
    ]
   },
   "outputs": [],
   "source": [
    "def compute_et_daily(df,rfcrp,z,lat,wndht,comment):\n",
    "    print('Daily')\n",
    "    # Change the data types of the dataframe columns\n",
    "    d_types = {'Date':             'datetime64[ns]',\n",
    "               'DOY':              'int64',\n",
    "               'Max Temp':         'float64',\n",
    "               'Min Temp':         'float64',\n",
    "               'RH Max':           'float64',\n",
    "               'RH Min':           'float64',\n",
    "               'Dewpoint':         'float64',\n",
    "               'Vapor Pressure':   'float64',\n",
    "               'Solar Rad':        'float64',\n",
    "               'Precip':           'float64',\n",
    "               'Wind Speed':       'float64',\n",
    "               'ETr':              'float64',\n",
    "               'ETo':              'float64'}\n",
    "    for col, dtype in d_types.items():\n",
    "        df[col] = df[col].astype(dtype)\n",
    "        \n",
    "    # Rename columns to FAO56:\n",
    "    df.rename(columns={\n",
    "        'Date': 'Timestamp',\n",
    "        'Solar Rad': 'Srad',\n",
    "        'Max Temp': 'Tmax',\n",
    "        'Min Temp': 'Tmin',\n",
    "        'RH Max': 'RHmax',\n",
    "        'RH Min': 'RHmin',\n",
    "        'Vapor Pressure': 'Vapr',\n",
    "        'Dewpoint': 'Tdew',\n",
    "        'Wind Speed': 'Wndsp',\n",
    "        'Precip': 'Rain'}, inplace=True)\n",
    "    # Loop through the dataframe to compute refET for each day\n",
    "    et = np.empty(len(df))\n",
    "    et.fill(np.nan)\n",
    "    for row in df.itertuples():\n",
    "        idx = row.Index\n",
    "        doy = df['DOY'][idx]\n",
    "        tmax = df['Tmax'][idx]\n",
    "        tmin = df['Tmin'][idx]\n",
    "        rhmax = df['RHmax'][idx]\n",
    "        rhmin = df['RHmin'][idx]\n",
    "        vapr = df['Vapr'][idx]\n",
    "        srad = df['Srad'][idx]\n",
    "        tdew = df['Tdew'][idx]\n",
    "        wind = df['Wndsp'][idx]\n",
    "        rain = df['Rain'][idx]\n",
    "        date = df['Timestamp'][idx]\n",
    "        # Checking for bad / missing data\n",
    "        values = [tmax, tmin, rhmax, rhmin, tdew, vapr, srad, rain, wind]\n",
    "        if -999 in values:\n",
    "            print(f\"Date {date} is missing data.\")\n",
    "            continue\n",
    "        etsz = fao.refet.ascedaily(rfcrp=rfcrp,z=z,lat=lat,doy=doy,\n",
    "                                       tmax=tmax,tmin=tmin,rhmax=rhmax,\n",
    "                                       rhmin=rhmin,vapr=vapr,israd=srad,\n",
    "                                       tdew=tdew,wndsp=wind,wndht=wndht)\n",
    "        et[idx] = etsz\n",
    "    df['refET'] = et\n",
    "\n",
    "    return df"
   ]
  },
  {
   "cell_type": "code",
   "execution_count": 69,
   "metadata": {
    "jupyter": {
     "source_hidden": true
    }
   },
   "outputs": [],
   "source": [
    "def to_wth(df,comment):\n",
    "    wth_df = df.copy()\n",
    "    wth_df['YYYY-DOY'] = pd.to_datetime(wth_df['Date'])\n",
    "    wth_df.index = wth_df['YYYY-DOY'].dt.strftime('%Y-%j')\n",
    "    wth_df.drop(['Date', 'YYYY-DOY','ETo', 'ETr'], axis=1, inplace=True)\n",
    "    wth_df.index.name = None\n",
    "    # Add \"M or P\" column\n",
    "    wth_df['MorP'] = 'M'\n",
    "    # Drop -999 and NaN values values:\n",
    "    wth_df = wth_df[wth_df != -999].dropna()\n",
    "    # Create Weather class and save file\n",
    "    wth = fao.Weather()\n",
    "    wth.wdata = wth_df\n",
    "    wth.savefile(f'{output_path}/{comment}.wth')"
   ]
  },
  {
   "cell_type": "code",
   "execution_count": 70,
   "metadata": {
    "jupyter": {
     "source_hidden": true
    }
   },
   "outputs": [],
   "source": [
    "def _kge(s,m):\n",
    "        \"\"\"\n",
    "        Compute the Kling-Gupta (2011) efficiency (kge).\n",
    "        Presently not a feature in pyfao56, soon to be added.\n",
    "        \"\"\"\n",
    "        stats = tools.Statistics(simulated=s, measured=m)\n",
    "        r = stats._r(s,m)\n",
    "        beta = np.mean(s)/np.mean(m)\n",
    "        alpha = np.std(s)/np.std(m)\n",
    "        a = (r-1.0)*(r-1.0)\n",
    "        b = (alpha-1.0)*(alpha-1.0)\n",
    "        c = (beta-1.0)*(beta-1.0)\n",
    "        return 1.0-np.sqrt(a+b+c)"
   ]
  },
  {
   "cell_type": "code",
   "execution_count": 71,
   "metadata": {
    "jupyter": {
     "source_hidden": true
    },
    "tags": [
     "hide-input"
    ]
   },
   "outputs": [],
   "source": [
    "def compute_statistics(df,rfcrp,comment):\n",
    "    if rfcrp == 'T':\n",
    "        df['Mesonet ET'] = df['ETr']\n",
    "        et = 'ETr'\n",
    "    elif rfcrp == 'S':\n",
    "        df['Mesonet ET'] = df['ETo']\n",
    "        et = 'ETo'\n",
    "    if time_format == 'Hourly':\n",
    "        tf = 'Hourly Sum'\n",
    "    else: \n",
    "        tf = 'Daily'\n",
    "    stat_df = df\n",
    "    # Computing statistical differences between pyfao56 and Mesonet\n",
    "    statistics = tools.Statistics(simulated=list(stat_df['refET']), \n",
    "                                measured=list(stat_df['Mesonet ET']))\n",
    "    r2 = statistics._r2(s=stat_df['refET'], m=stat_df['Mesonet ET'])\n",
    "    rmse = statistics._rmse(s=stat_df['refET'], m=stat_df['Mesonet ET'])\n",
    "    bias = statistics._bias(s=stat_df['refET'], m=stat_df['Mesonet ET'])\n",
    "    nse = statistics._nse(s=stat_df['refET'], m=stat_df['Mesonet ET'])\n",
    "    kge = _kge(s=stat_df['refET'], m=stat_df['Mesonet ET'])\n",
    "\n",
    "    \n",
    "    # Plotly figure\n",
    "    fig = go.Figure(data=go.Scatter(x=stat_df['refET'], \n",
    "                                    y=stat_df['Mesonet ET'],\n",
    "                                    mode='markers',\n",
    "                                    hovertext=stat_df.index,\n",
    "                                    hoverinfo='text+x+y',))\n",
    "\n",
    "    # Add line where x = y\n",
    "    fig.add_trace(go.Scatter(\n",
    "        x=[stat_df['refET'].min(), stat_df['refET'].max()],\n",
    "        y=[stat_df['refET'].min(), stat_df['refET'].max()],\n",
    "        mode='lines',\n",
    "        line=dict(color='gray', dash='dash'),\n",
    "        showlegend=False\n",
    "    ))\n",
    "\n",
    "    # Add labels and title\n",
    "    fig.update_layout(\n",
    "        xaxis_title=f'pyfao56 {et} (mm/d)',\n",
    "        yaxis_title=f'Mesonet {et} (mm/d)',\n",
    "        title=f'{state}-{comment} {tf} {et}'\n",
    "    )\n",
    "    # Add annotations (box with text)\n",
    "    fig.update_layout(\n",
    "        annotations=[\n",
    "            dict(\n",
    "                x=1,\n",
    "                y=0.8,\n",
    "                xref=\"paper\",\n",
    "                yref=\"paper\",\n",
    "                text=f\"R2: {r2:.2f}<br>\" \\\n",
    "                    f\"RMSE: {rmse:.2f}<br>Bias: {bias:.2f}<br>\" \\\n",
    "                    f\"NSE: {nse:.2f}<br>KGE: {kge:.2f}<br>\",\n",
    "                showarrow=False,\n",
    "                align=\"left\",\n",
    "                font=dict(size=12)\n",
    "            )\n",
    "        ]\n",
    "    )\n",
    "\n",
    "    # Show the plot\n",
    "    fig.write_html(f'{output_path}/pyfao56_vs_Mesonet_{comment}_{et}.html')\n",
    "    fig.show()\n",
    "    # Save the dataframe\n",
    "    stat_df.to_csv(f'{output_path}/pyfao56_vs_Mesonet_{comment}_{et}.csv')"
   ]
  },
  {
   "cell_type": "code",
   "execution_count": null,
   "metadata": {
    "jupyter": {
     "source_hidden": true
    }
   },
   "outputs": [
    {
     "name": "stdout",
     "output_type": "stream",
     "text": [
      "Hourly\n",
      "Timestamp 2023-05-08 08:00:00 is missing data.\n",
      "Timestamp 2023-05-08 09:00:00 is missing data.\n",
      "Timestamp 2023-05-08 10:00:00 is missing data.\n",
      "Timestamp 2023-05-08 11:00:00 is missing data.\n",
      "Timestamp 2023-05-08 12:00:00 is missing data.\n",
      "Timestamp 2023-09-12 10:00:00 is missing data.\n",
      "Timestamp 2023-09-12 11:00:00 is missing data.\n",
      "Timestamp 2023-09-12 12:00:00 is missing data.\n",
      "Timestamp 2023-09-12 13:00:00 is missing data.\n",
      "Timestamp 2023-09-12 14:00:00 is missing data.\n",
      "Timestamp 2023-09-12 15:00:00 is missing data.\n",
      "Timestamp 2023-09-12 16:00:00 is missing data.\n",
      "Timestamp 2023-09-25 10:00:00 is missing data.\n",
      "Timestamp 2023-09-25 11:00:00 is missing data.\n",
      "Timestamp 2023-09-25 12:00:00 is missing data.\n",
      "Timestamp 2023-09-25 13:00:00 is missing data.\n",
      "Timestamp 2023-09-25 14:00:00 is missing data.\n",
      "Timestamp 2023-09-25 15:00:00 is missing data.\n"
     ]
    },
    {
     "data": {
      "application/vnd.plotly.v1+json": {
       "config": {
        "plotlyServerURL": "https://plot.ly"
       },
       "data": [
        {
         "hoverinfo": "text+x+y",
         "hovertext": [
          0,
          1,
          2,
          3,
          4,
          5,
          6,
          7,
          8,
          9,
          10,
          11,
          12,
          13,
          14,
          15,
          16,
          17,
          18,
          19,
          20,
          21,
          22,
          23,
          24,
          25,
          26,
          27,
          28,
          29,
          30,
          31,
          32,
          33,
          34,
          35,
          36,
          37,
          38,
          39,
          40,
          41,
          42,
          43,
          44,
          45,
          46,
          47,
          48,
          49,
          50,
          51,
          52,
          53,
          54,
          55,
          56,
          57,
          58,
          59,
          60,
          61,
          62,
          63,
          64,
          65,
          66,
          67,
          68,
          69,
          70,
          71,
          72,
          73,
          74,
          75,
          76,
          77,
          78,
          79,
          80,
          81,
          82,
          83,
          84,
          85,
          86,
          87,
          88,
          89,
          90,
          91,
          92,
          93,
          94,
          95,
          96,
          97,
          98,
          99,
          100,
          101,
          102,
          103,
          104,
          105,
          106,
          107,
          108,
          109,
          110,
          111,
          112,
          113,
          114,
          115,
          116,
          117,
          118,
          119,
          120,
          121,
          122,
          123,
          124,
          125,
          126,
          127,
          128,
          129,
          130,
          131,
          132,
          133,
          134,
          135,
          136,
          137,
          138,
          139,
          140,
          141,
          142,
          143,
          144,
          145,
          146,
          147,
          148,
          149,
          150,
          151,
          152,
          153,
          154,
          155,
          156,
          157,
          158,
          159,
          160,
          161,
          162,
          163,
          164,
          165,
          166,
          167,
          168,
          169,
          170,
          171,
          172,
          173,
          174,
          175,
          176,
          177,
          178,
          179,
          180,
          181,
          182,
          183,
          184,
          185,
          186,
          187,
          188,
          189,
          190,
          191,
          192,
          193,
          194,
          195,
          196,
          197,
          198,
          199,
          200,
          201,
          202,
          203,
          204,
          205,
          206,
          207,
          208,
          209,
          210,
          211,
          212,
          213,
          214,
          215,
          216,
          217,
          218,
          219,
          220,
          221,
          222,
          223,
          224,
          225,
          226,
          227,
          228,
          229,
          230,
          231,
          232,
          233,
          234,
          235,
          236,
          237,
          238,
          239,
          240,
          241,
          242,
          243,
          244,
          245,
          246,
          247,
          248,
          249,
          250,
          251,
          252,
          253,
          254,
          255,
          256,
          257,
          258,
          259,
          260,
          261,
          262,
          263,
          264,
          265,
          266,
          267,
          268,
          269,
          270,
          271,
          272,
          273,
          274,
          275,
          276,
          277,
          278,
          279,
          280,
          281,
          282,
          283,
          284,
          285,
          286,
          287,
          288,
          289,
          290,
          291,
          292,
          293,
          294,
          295,
          296,
          297,
          298,
          299,
          300,
          301,
          302,
          303,
          304,
          305,
          306,
          307,
          308,
          309,
          310,
          311,
          312,
          313,
          314,
          315,
          316,
          317,
          318,
          319,
          320,
          321,
          322,
          323,
          324,
          325,
          326,
          327,
          328,
          329,
          330,
          331,
          332,
          333,
          334,
          335,
          336,
          337,
          338,
          339,
          340,
          341,
          342,
          343,
          344,
          345,
          346,
          347,
          348,
          349,
          350,
          351,
          352,
          353,
          354,
          355,
          356,
          357,
          358,
          359,
          360,
          361,
          362,
          363,
          364
         ],
         "mode": "markers",
         "type": "scatter",
         "x": [
          0.4214492075871062,
          0.19549428635492588,
          0.6754947624919613,
          0.6020430191050721,
          0.3477378721470387,
          0.5036676818113789,
          0.6644209300706413,
          0.42512907038895686,
          0.7593338478768101,
          0.9318388636281094,
          0.22513705087090363,
          0.48674365581330675,
          0.5560011192587208,
          0.8562228548878281,
          0.6129866690038096,
          0.6175691407260568,
          0.5738447813952694,
          0.46843232164631204,
          0.6300661616780738,
          0.5948037007085986,
          0.6784232136913058,
          0.8986447326192778,
          0.5995092743686421,
          0.8237969517328246,
          1.0219518905618565,
          0.9766521976969292,
          0.6469183155319573,
          0.4334370071527365,
          0.30302710917249387,
          0.4013440027161567,
          0.5696744523427415,
          0.8603761454630159,
          1.0595823792419814,
          1.0914276586356015,
          1.57435551008237,
          1.0090070820814163,
          1.2995205243262895,
          1.259288874638158,
          1.3161747720136285,
          1.2087162292471738,
          0.9846790700925924,
          1.2935991953654895,
          1.3341588286084858,
          1.3069951793218926,
          2.275873322858806,
          0.5074709047975997,
          1.2181151611792236,
          1.3857046900607708,
          0.9679693016345925,
          1.9971916690223372,
          1.4499875187696034,
          1.3547039138874033,
          0.41695315619393714,
          0.6842710565636474,
          0.9800399404053612,
          1.5882513355820511,
          1.8248125211413424,
          3.004417537393046,
          2.399167311761698,
          0.7895138741395816,
          1.859393546939883,
          1.389720516156005,
          1.4828399735823732,
          2.6763432495519237,
          1.8247700581526423,
          0.8318034425880974,
          1.3244342447996857,
          3.092975588684495,
          1.6994954794256003,
          4.033704173442649,
          2.137442016252354,
          2.527214404865509,
          2.824110639540848,
          3.6129144769345705,
          2.6213643923970094,
          3.044679359288862,
          3.119636088030661,
          3.2009321128769477,
          3.2822900183189407,
          4.070462479829283,
          1.1135133708390759,
          2.658089199769368,
          2.625383899270601,
          2.5346068553133607,
          2.701838291335366,
          1.5056404612727703,
          2.0638956428483763,
          1.7039299440715578,
          2.7048865302567653,
          4.012665117650348,
          4.343047141639629,
          5.672718515973334,
          3.0847773883791088,
          1.2298990735526645,
          2.744290668637937,
          3.3745827906678905,
          4.258475559545758,
          3.6081316220534467,
          4.4400530011254915,
          4.4826361333015114,
          5.50207394507233,
          5.479950038569397,
          4.389053869830753,
          1.3185707830945526,
          3.2884728610140477,
          4.245247163920791,
          5.189605356044715,
          5.289076286024556,
          3.1912367014535143,
          4.820855885308811,
          2.69786083006841,
          1.8247829028894567,
          3.8770555661227304,
          4.689519482616381,
          1.5781130988679106,
          3.319512198553586,
          4.288998964291861,
          4.607234867960616,
          5.297170388569533,
          4.866862594141267,
          4.106614097820987,
          5.8216193650508306,
          4.824999293225764,
          4.5339258064242625,
          5.4694627724565335,
          5.667381994147709,
          4.822602385322467,
          3.551824154657116,
          6.343191716007613,
          1.7394611154482815,
          0.8742075810646206,
          3.269597912058585,
          3.456274426841652,
          1.8450521862999407,
          2.3039965993684226,
          5.227740937177479,
          5.52414791168327,
          2.314543667448859,
          2.853577173442351,
          4.065034478734676,
          5.939392231253071,
          4.951720596016107,
          5.360237637628411,
          2.7564714130398746,
          5.523889923350412,
          3.743398432178619,
          4.710432963377023,
          4.9328815139467945,
          5.7581526260081715,
          6.286592568290905,
          4.217270811361549,
          4.116508300954119,
          4.1617465083735725,
          2.1039365816496405,
          2.1394051089772628,
          4.252282223586476,
          5.527527258723513,
          5.993381493895196,
          5.586229591765171,
          4.749861739339294,
          4.961966506560238,
          3.104187745920708,
          2.6429304474993955,
          2.710740317435401,
          5.564854188230824,
          4.372451169311578,
          2.153412172010258,
          4.5870807746558615,
          6.450773898425352,
          6.917045519905001,
          4.213846640870022,
          4.582894710469838,
          4.519163253981125,
          5.137517353739013,
          7.772520628206703,
          6.2175293594379335,
          5.507589096247523,
          6.044204614929318,
          6.376705438986093,
          5.0858218999158975,
          2.8145253483568853,
          6.017291118259817,
          6.279057362023937,
          6.22515966101299,
          4.383680325583567,
          1.1221764183062006,
          3.0378734377968293,
          4.247285828483667,
          3.6302897349046206,
          4.552540023479588,
          5.689385845562744,
          5.689669670133415,
          6.078574107490556,
          6.954740207827752,
          6.199762036490816,
          4.983027385823642,
          6.370855999449256,
          6.583842121849906,
          5.45372172294395,
          4.418654675255637,
          3.2467317635939574,
          4.955278516869116,
          5.9030963393235245,
          5.311433638731754,
          5.662202705472853,
          5.032827127409492,
          5.067310016828587,
          6.0048804338710475,
          4.411715348168635,
          4.738829190300456,
          5.7087249578865045,
          5.325115745055142,
          4.881048838148154,
          5.511559300888461,
          4.258131629129379,
          5.268832730022605,
          4.7999424800265444,
          3.3725454873034075,
          4.021473311377388,
          4.354883027983338,
          5.427801687517127,
          5.012091136286047,
          5.0932905821827505,
          4.291052752495955,
          4.743465132063921,
          4.860590658907979,
          5.54751734991113,
          6.809425201459854,
          5.755429669049664,
          5.1526555562042775,
          5.26643723813067,
          4.818328602663324,
          5.89578727257117,
          5.791548749958263,
          5.443715640546284,
          4.5343709678824675,
          1.2791047001880238,
          4.29804488445945,
          3.729203012969672,
          4.011658549431468,
          4.944081108662845,
          5.066046804227814,
          6.036316610921932,
          4.910203904593777,
          4.580034363115176,
          4.481655993078053,
          5.462566947424743,
          5.198557852987777,
          4.525512289749776,
          4.967132503228504,
          4.484063544151825,
          5.1439384535641635,
          1.0943521588140177,
          3.1569389003783708,
          0.40488374327554727,
          3.9115953713390494,
          3.6133492476678963,
          2.4105903824169936,
          3.736284199362659,
          3.9931907170846173,
          4.002024295712337,
          3.5120442225428303,
          4.416203287953889,
          4.1384351313366725,
          4.063675153173599,
          4.2804983587012355,
          3.511384783290494,
          0.7706170878425991,
          3.8856444796874126,
          4.1003203099845855,
          4.564017796997773,
          4.189140235167827,
          3.7559701442307762,
          6.330886204973261,
          4.353332652406185,
          3.1501477920266336,
          3.2438799018573596,
          2.579123504257475,
          1.6396069709238719,
          2.773750906688345,
          3.341055349966109,
          3.05966854262465,
          3.3549191808595253,
          2.856733389802829,
          2.331433063774456,
          3.0738165250273344,
          1.5498082892206033,
          2.8824669065842183,
          2.3311990725225376,
          3.1007775651363847,
          3.3508221886060015,
          3.21157959983577,
          3.0928827448339997,
          3.2109436510499303,
          2.345565749370666,
          2.6673155273607274,
          2.1092269355178317,
          0.7989256235444958,
          0.47812519884242394,
          1.4150626836399727,
          0.3563131555277625,
          0.9013570187496021,
          1.3144312770963547,
          1.4225094271338903,
          1.2359248127468214,
          2.026239970508034,
          2.126491003398356,
          2.0051542058245695,
          1.713003370954554,
          2.0296507724673214,
          2.671363923789707,
          1.0965808880142263,
          1.746219291080312,
          1.8053590475284993,
          1.5876029767972417,
          2.122183272451133,
          1.5398263765385194,
          1.9109567206040527,
          1.7216045282607126,
          1.3177857743283254,
          1.2147795462991136,
          1.2314228942412344,
          1.8373396098758814,
          1.6494975052958507,
          1.3448204323416557,
          1.3410430343785145,
          0.8622104573079922,
          0.3862690618795763,
          0.31534656311860515,
          0.7285807894407141,
          0.781080410406275,
          0.9424901293622714,
          0.9947328451960187,
          0.6284870974971312,
          0.4324038892374058,
          1.1060981959319875,
          1.4985309327644005,
          1.3138605563093635,
          0.8040614511945416,
          0.9049043208062316,
          2.2026516777081184,
          1.2358412867507196,
          1.351401017848216,
          0.6299573853813463,
          1.149553680164189,
          0.2267032558767046,
          0.823904453072801,
          0.147065263637471,
          1.9028564181414322,
          0.9636790945036136,
          1.8821012935921697,
          0.7286503532500342,
          0.9607068374994245,
          1.238702482076494,
          1.1650013055983286,
          0.9882398622912364,
          0.7942736121878595,
          1.1338718670988122,
          1.4946759951579465,
          2.0861021794798695,
          2.39641244911011,
          0.8882804362075671,
          1.3040470416691619,
          1.1408606606281044,
          0.7165400722307017
         ],
         "y": [
          0.61,
          0.22,
          0.6900000000000001,
          0.63,
          0.4,
          0.55,
          0.71,
          0.5,
          0.81,
          0.99,
          0.25,
          0.56,
          0.5800000000000001,
          0.9,
          0.65,
          0.66,
          0.5800000000000001,
          0.5,
          0.67,
          0.66,
          0.7100000000000001,
          0.93,
          0.65,
          0.85,
          1.05,
          1.02,
          0.68,
          0.42,
          0.28,
          0.39,
          0.5700000000000001,
          0.9,
          1.08,
          1.12,
          1.5999999999999999,
          1.02,
          1.3,
          1.29,
          1.33,
          1.21,
          0.99,
          1.34,
          1.37,
          1.32,
          2.2800000000000002,
          0.48000000000000004,
          1.22,
          1.39,
          1.02,
          2.04,
          1.51,
          1.39,
          0.39,
          0.68,
          1,
          1.61,
          1.8699999999999999,
          3.04,
          2.42,
          0.8,
          1.88,
          1.39,
          1.49,
          2.6999999999999997,
          1.84,
          0.86,
          1.35,
          3.07,
          1.7,
          4.04,
          2.15,
          2.5500000000000003,
          2.85,
          3.6300000000000003,
          2.62,
          3.03,
          3.15,
          3.23,
          3.38,
          4.08,
          1.1,
          2.64,
          2.63,
          2.52,
          2.69,
          1.54,
          2.12,
          1.73,
          2.81,
          4.07,
          4.37,
          5.7,
          3.1,
          1.22,
          2.76,
          3.42,
          4.27,
          3.63,
          4.48,
          4.54,
          5.57,
          5.52,
          4.38,
          1.32,
          3.28,
          4.2700000000000005,
          5.24,
          5.48,
          3.22,
          4.81,
          2.7,
          1.85,
          3.91,
          4.69,
          1.58,
          3.31,
          4.3,
          4.63,
          5.34,
          4.91,
          4.14,
          5.91,
          4.84,
          4.53,
          5.47,
          5.64,
          4.85,
          5.12,
          6.38,
          1.76,
          0.89,
          3.29,
          3.48,
          1.86,
          2.29,
          5.24,
          5.61,
          2.37,
          2.92,
          4.14,
          6.0200000000000005,
          5,
          5.4,
          2.78,
          5.56,
          3.77,
          4.76,
          5.03,
          5.85,
          6.34,
          4.3,
          4.19,
          4.24,
          2.16,
          2.21,
          4.31,
          5.58,
          6.06,
          5.63,
          4.78,
          5.01,
          3.13,
          2.65,
          2.75,
          5.62,
          4.4,
          2.14,
          4.66,
          6.5200000000000005,
          6.99,
          4.3,
          4.61,
          4.59,
          5.22,
          7.86,
          6.32,
          5.61,
          6.13,
          6.47,
          5.45,
          2.88,
          6.09,
          6.38,
          6.26,
          4.4,
          1.11,
          3.04,
          4.3,
          3.65,
          4.62,
          5.8,
          5.78,
          6.13,
          7.05,
          6.3,
          5.1000000000000005,
          6.5,
          6.68,
          5.49,
          4.46,
          3.2800000000000002,
          5,
          5.94,
          5.44,
          5.7700000000000005,
          5.11,
          5.15,
          6.07,
          4.5200000000000005,
          4.83,
          5.8100000000000005,
          5.45,
          4.91,
          5.57,
          4.3,
          5.32,
          4.79,
          3.28,
          4.17,
          4.59,
          5.4799999999999995,
          5.07,
          5.14,
          4.36,
          4.81,
          4.92,
          5.63,
          6.88,
          5.82,
          5.2299999999999995,
          5.28,
          4.93,
          6,
          5.88,
          5.51,
          4.62,
          1.31,
          4.36,
          3.82,
          4.09,
          5.04,
          5.21,
          6.12,
          4.98,
          4.68,
          4.54,
          5.55,
          5.3,
          4.65,
          5.07,
          4.6,
          5.25,
          1.1,
          3.22,
          2.97,
          4.0200000000000005,
          3.6799999999999997,
          2.45,
          3.85,
          4.08,
          4.06,
          3.58,
          4.46,
          4.19,
          4.15,
          4.3,
          3.5500000000000003,
          2.91,
          3.99,
          4.18,
          4.68,
          4.29,
          3.87,
          6.42,
          4.6,
          3.22,
          3.28,
          2.63,
          1.7200000000000002,
          2.9,
          3.44,
          3.16,
          3.43,
          2.89,
          2.33,
          3.09,
          1.61,
          3.03,
          2.45,
          3.08,
          3.56,
          3.39,
          3.16,
          3.27,
          2.43,
          2.76,
          2.2,
          0.8500000000000001,
          0.51,
          1.44,
          0.36,
          0.92,
          1.38,
          1.45,
          1.31,
          2.1,
          2.22,
          2.11,
          1.82,
          2.14,
          2.69,
          1.14,
          1.8,
          1.84,
          1.65,
          2.22,
          1.59,
          1.97,
          1.7699999999999998,
          1.36,
          1.33,
          1.31,
          1.8900000000000001,
          1.77,
          1.44,
          1.41,
          0.86,
          0.35000000000000003,
          0.3,
          0.76,
          0.84,
          0.97,
          1.07,
          0.7,
          0.47,
          1.19,
          1.55,
          1.4000000000000001,
          0.88,
          1,
          2.2399999999999998,
          1.28,
          1.36,
          0.67,
          1.19,
          0.23,
          0.85,
          0.13999999999999999,
          1.93,
          1.04,
          1.95,
          0.79,
          1.01,
          1.28,
          1.19,
          1.02,
          0.8300000000000001,
          1.1500000000000001,
          1.51,
          2.18,
          2.44,
          0.99,
          1.39,
          1.21,
          0.8
         ]
        },
        {
         "line": {
          "color": "gray",
          "dash": "dash"
         },
         "mode": "lines",
         "showlegend": false,
         "type": "scatter",
         "x": [
          0.147065263637471,
          7.772520628206703
         ],
         "y": [
          0.147065263637471,
          7.772520628206703
         ]
        }
       ],
       "layout": {
        "annotations": [
         {
          "align": "left",
          "font": {
           "size": 12
          },
          "showarrow": false,
          "text": "R2: 0.99<br>RMSE: 0.21<br>Bias: -24.96<br>NSE: 0.99<br>KGE: 0.98<br>",
          "x": 1,
          "xref": "paper",
          "y": 0.8,
          "yref": "paper"
         }
        ],
        "template": {
         "data": {
          "bar": [
           {
            "error_x": {
             "color": "#2a3f5f"
            },
            "error_y": {
             "color": "#2a3f5f"
            },
            "marker": {
             "line": {
              "color": "#E5ECF6",
              "width": 0.5
             },
             "pattern": {
              "fillmode": "overlay",
              "size": 10,
              "solidity": 0.2
             }
            },
            "type": "bar"
           }
          ],
          "barpolar": [
           {
            "marker": {
             "line": {
              "color": "#E5ECF6",
              "width": 0.5
             },
             "pattern": {
              "fillmode": "overlay",
              "size": 10,
              "solidity": 0.2
             }
            },
            "type": "barpolar"
           }
          ],
          "carpet": [
           {
            "aaxis": {
             "endlinecolor": "#2a3f5f",
             "gridcolor": "white",
             "linecolor": "white",
             "minorgridcolor": "white",
             "startlinecolor": "#2a3f5f"
            },
            "baxis": {
             "endlinecolor": "#2a3f5f",
             "gridcolor": "white",
             "linecolor": "white",
             "minorgridcolor": "white",
             "startlinecolor": "#2a3f5f"
            },
            "type": "carpet"
           }
          ],
          "choropleth": [
           {
            "colorbar": {
             "outlinewidth": 0,
             "ticks": ""
            },
            "type": "choropleth"
           }
          ],
          "contour": [
           {
            "colorbar": {
             "outlinewidth": 0,
             "ticks": ""
            },
            "colorscale": [
             [
              0,
              "#0d0887"
             ],
             [
              0.1111111111111111,
              "#46039f"
             ],
             [
              0.2222222222222222,
              "#7201a8"
             ],
             [
              0.3333333333333333,
              "#9c179e"
             ],
             [
              0.4444444444444444,
              "#bd3786"
             ],
             [
              0.5555555555555556,
              "#d8576b"
             ],
             [
              0.6666666666666666,
              "#ed7953"
             ],
             [
              0.7777777777777778,
              "#fb9f3a"
             ],
             [
              0.8888888888888888,
              "#fdca26"
             ],
             [
              1,
              "#f0f921"
             ]
            ],
            "type": "contour"
           }
          ],
          "contourcarpet": [
           {
            "colorbar": {
             "outlinewidth": 0,
             "ticks": ""
            },
            "type": "contourcarpet"
           }
          ],
          "heatmap": [
           {
            "colorbar": {
             "outlinewidth": 0,
             "ticks": ""
            },
            "colorscale": [
             [
              0,
              "#0d0887"
             ],
             [
              0.1111111111111111,
              "#46039f"
             ],
             [
              0.2222222222222222,
              "#7201a8"
             ],
             [
              0.3333333333333333,
              "#9c179e"
             ],
             [
              0.4444444444444444,
              "#bd3786"
             ],
             [
              0.5555555555555556,
              "#d8576b"
             ],
             [
              0.6666666666666666,
              "#ed7953"
             ],
             [
              0.7777777777777778,
              "#fb9f3a"
             ],
             [
              0.8888888888888888,
              "#fdca26"
             ],
             [
              1,
              "#f0f921"
             ]
            ],
            "type": "heatmap"
           }
          ],
          "heatmapgl": [
           {
            "colorbar": {
             "outlinewidth": 0,
             "ticks": ""
            },
            "colorscale": [
             [
              0,
              "#0d0887"
             ],
             [
              0.1111111111111111,
              "#46039f"
             ],
             [
              0.2222222222222222,
              "#7201a8"
             ],
             [
              0.3333333333333333,
              "#9c179e"
             ],
             [
              0.4444444444444444,
              "#bd3786"
             ],
             [
              0.5555555555555556,
              "#d8576b"
             ],
             [
              0.6666666666666666,
              "#ed7953"
             ],
             [
              0.7777777777777778,
              "#fb9f3a"
             ],
             [
              0.8888888888888888,
              "#fdca26"
             ],
             [
              1,
              "#f0f921"
             ]
            ],
            "type": "heatmapgl"
           }
          ],
          "histogram": [
           {
            "marker": {
             "pattern": {
              "fillmode": "overlay",
              "size": 10,
              "solidity": 0.2
             }
            },
            "type": "histogram"
           }
          ],
          "histogram2d": [
           {
            "colorbar": {
             "outlinewidth": 0,
             "ticks": ""
            },
            "colorscale": [
             [
              0,
              "#0d0887"
             ],
             [
              0.1111111111111111,
              "#46039f"
             ],
             [
              0.2222222222222222,
              "#7201a8"
             ],
             [
              0.3333333333333333,
              "#9c179e"
             ],
             [
              0.4444444444444444,
              "#bd3786"
             ],
             [
              0.5555555555555556,
              "#d8576b"
             ],
             [
              0.6666666666666666,
              "#ed7953"
             ],
             [
              0.7777777777777778,
              "#fb9f3a"
             ],
             [
              0.8888888888888888,
              "#fdca26"
             ],
             [
              1,
              "#f0f921"
             ]
            ],
            "type": "histogram2d"
           }
          ],
          "histogram2dcontour": [
           {
            "colorbar": {
             "outlinewidth": 0,
             "ticks": ""
            },
            "colorscale": [
             [
              0,
              "#0d0887"
             ],
             [
              0.1111111111111111,
              "#46039f"
             ],
             [
              0.2222222222222222,
              "#7201a8"
             ],
             [
              0.3333333333333333,
              "#9c179e"
             ],
             [
              0.4444444444444444,
              "#bd3786"
             ],
             [
              0.5555555555555556,
              "#d8576b"
             ],
             [
              0.6666666666666666,
              "#ed7953"
             ],
             [
              0.7777777777777778,
              "#fb9f3a"
             ],
             [
              0.8888888888888888,
              "#fdca26"
             ],
             [
              1,
              "#f0f921"
             ]
            ],
            "type": "histogram2dcontour"
           }
          ],
          "mesh3d": [
           {
            "colorbar": {
             "outlinewidth": 0,
             "ticks": ""
            },
            "type": "mesh3d"
           }
          ],
          "parcoords": [
           {
            "line": {
             "colorbar": {
              "outlinewidth": 0,
              "ticks": ""
             }
            },
            "type": "parcoords"
           }
          ],
          "pie": [
           {
            "automargin": true,
            "type": "pie"
           }
          ],
          "scatter": [
           {
            "fillpattern": {
             "fillmode": "overlay",
             "size": 10,
             "solidity": 0.2
            },
            "type": "scatter"
           }
          ],
          "scatter3d": [
           {
            "line": {
             "colorbar": {
              "outlinewidth": 0,
              "ticks": ""
             }
            },
            "marker": {
             "colorbar": {
              "outlinewidth": 0,
              "ticks": ""
             }
            },
            "type": "scatter3d"
           }
          ],
          "scattercarpet": [
           {
            "marker": {
             "colorbar": {
              "outlinewidth": 0,
              "ticks": ""
             }
            },
            "type": "scattercarpet"
           }
          ],
          "scattergeo": [
           {
            "marker": {
             "colorbar": {
              "outlinewidth": 0,
              "ticks": ""
             }
            },
            "type": "scattergeo"
           }
          ],
          "scattergl": [
           {
            "marker": {
             "colorbar": {
              "outlinewidth": 0,
              "ticks": ""
             }
            },
            "type": "scattergl"
           }
          ],
          "scattermapbox": [
           {
            "marker": {
             "colorbar": {
              "outlinewidth": 0,
              "ticks": ""
             }
            },
            "type": "scattermapbox"
           }
          ],
          "scatterpolar": [
           {
            "marker": {
             "colorbar": {
              "outlinewidth": 0,
              "ticks": ""
             }
            },
            "type": "scatterpolar"
           }
          ],
          "scatterpolargl": [
           {
            "marker": {
             "colorbar": {
              "outlinewidth": 0,
              "ticks": ""
             }
            },
            "type": "scatterpolargl"
           }
          ],
          "scatterternary": [
           {
            "marker": {
             "colorbar": {
              "outlinewidth": 0,
              "ticks": ""
             }
            },
            "type": "scatterternary"
           }
          ],
          "surface": [
           {
            "colorbar": {
             "outlinewidth": 0,
             "ticks": ""
            },
            "colorscale": [
             [
              0,
              "#0d0887"
             ],
             [
              0.1111111111111111,
              "#46039f"
             ],
             [
              0.2222222222222222,
              "#7201a8"
             ],
             [
              0.3333333333333333,
              "#9c179e"
             ],
             [
              0.4444444444444444,
              "#bd3786"
             ],
             [
              0.5555555555555556,
              "#d8576b"
             ],
             [
              0.6666666666666666,
              "#ed7953"
             ],
             [
              0.7777777777777778,
              "#fb9f3a"
             ],
             [
              0.8888888888888888,
              "#fdca26"
             ],
             [
              1,
              "#f0f921"
             ]
            ],
            "type": "surface"
           }
          ],
          "table": [
           {
            "cells": {
             "fill": {
              "color": "#EBF0F8"
             },
             "line": {
              "color": "white"
             }
            },
            "header": {
             "fill": {
              "color": "#C8D4E3"
             },
             "line": {
              "color": "white"
             }
            },
            "type": "table"
           }
          ]
         },
         "layout": {
          "annotationdefaults": {
           "arrowcolor": "#2a3f5f",
           "arrowhead": 0,
           "arrowwidth": 1
          },
          "autotypenumbers": "strict",
          "coloraxis": {
           "colorbar": {
            "outlinewidth": 0,
            "ticks": ""
           }
          },
          "colorscale": {
           "diverging": [
            [
             0,
             "#8e0152"
            ],
            [
             0.1,
             "#c51b7d"
            ],
            [
             0.2,
             "#de77ae"
            ],
            [
             0.3,
             "#f1b6da"
            ],
            [
             0.4,
             "#fde0ef"
            ],
            [
             0.5,
             "#f7f7f7"
            ],
            [
             0.6,
             "#e6f5d0"
            ],
            [
             0.7,
             "#b8e186"
            ],
            [
             0.8,
             "#7fbc41"
            ],
            [
             0.9,
             "#4d9221"
            ],
            [
             1,
             "#276419"
            ]
           ],
           "sequential": [
            [
             0,
             "#0d0887"
            ],
            [
             0.1111111111111111,
             "#46039f"
            ],
            [
             0.2222222222222222,
             "#7201a8"
            ],
            [
             0.3333333333333333,
             "#9c179e"
            ],
            [
             0.4444444444444444,
             "#bd3786"
            ],
            [
             0.5555555555555556,
             "#d8576b"
            ],
            [
             0.6666666666666666,
             "#ed7953"
            ],
            [
             0.7777777777777778,
             "#fb9f3a"
            ],
            [
             0.8888888888888888,
             "#fdca26"
            ],
            [
             1,
             "#f0f921"
            ]
           ],
           "sequentialminus": [
            [
             0,
             "#0d0887"
            ],
            [
             0.1111111111111111,
             "#46039f"
            ],
            [
             0.2222222222222222,
             "#7201a8"
            ],
            [
             0.3333333333333333,
             "#9c179e"
            ],
            [
             0.4444444444444444,
             "#bd3786"
            ],
            [
             0.5555555555555556,
             "#d8576b"
            ],
            [
             0.6666666666666666,
             "#ed7953"
            ],
            [
             0.7777777777777778,
             "#fb9f3a"
            ],
            [
             0.8888888888888888,
             "#fdca26"
            ],
            [
             1,
             "#f0f921"
            ]
           ]
          },
          "colorway": [
           "#636efa",
           "#EF553B",
           "#00cc96",
           "#ab63fa",
           "#FFA15A",
           "#19d3f3",
           "#FF6692",
           "#B6E880",
           "#FF97FF",
           "#FECB52"
          ],
          "font": {
           "color": "#2a3f5f"
          },
          "geo": {
           "bgcolor": "white",
           "lakecolor": "white",
           "landcolor": "#E5ECF6",
           "showlakes": true,
           "showland": true,
           "subunitcolor": "white"
          },
          "hoverlabel": {
           "align": "left"
          },
          "hovermode": "closest",
          "mapbox": {
           "style": "light"
          },
          "paper_bgcolor": "white",
          "plot_bgcolor": "#E5ECF6",
          "polar": {
           "angularaxis": {
            "gridcolor": "white",
            "linecolor": "white",
            "ticks": ""
           },
           "bgcolor": "#E5ECF6",
           "radialaxis": {
            "gridcolor": "white",
            "linecolor": "white",
            "ticks": ""
           }
          },
          "scene": {
           "xaxis": {
            "backgroundcolor": "#E5ECF6",
            "gridcolor": "white",
            "gridwidth": 2,
            "linecolor": "white",
            "showbackground": true,
            "ticks": "",
            "zerolinecolor": "white"
           },
           "yaxis": {
            "backgroundcolor": "#E5ECF6",
            "gridcolor": "white",
            "gridwidth": 2,
            "linecolor": "white",
            "showbackground": true,
            "ticks": "",
            "zerolinecolor": "white"
           },
           "zaxis": {
            "backgroundcolor": "#E5ECF6",
            "gridcolor": "white",
            "gridwidth": 2,
            "linecolor": "white",
            "showbackground": true,
            "ticks": "",
            "zerolinecolor": "white"
           }
          },
          "shapedefaults": {
           "line": {
            "color": "#2a3f5f"
           }
          },
          "ternary": {
           "aaxis": {
            "gridcolor": "white",
            "linecolor": "white",
            "ticks": ""
           },
           "baxis": {
            "gridcolor": "white",
            "linecolor": "white",
            "ticks": ""
           },
           "bgcolor": "#E5ECF6",
           "caxis": {
            "gridcolor": "white",
            "linecolor": "white",
            "ticks": ""
           }
          },
          "title": {
           "x": 0.05
          },
          "xaxis": {
           "automargin": true,
           "gridcolor": "white",
           "linecolor": "white",
           "ticks": "",
           "title": {
            "standoff": 15
           },
           "zerolinecolor": "white",
           "zerolinewidth": 2
          },
          "yaxis": {
           "automargin": true,
           "gridcolor": "white",
           "linecolor": "white",
           "ticks": "",
           "title": {
            "standoff": 15
           },
           "zerolinecolor": "white",
           "zerolinewidth": 2
          }
         }
        },
        "title": {
         "text": "CO-GLY04 Hourly Sum ETo"
        },
        "xaxis": {
         "title": {
          "text": "pyfao56 ETo"
         }
        },
        "yaxis": {
         "title": {
          "text": "Mesonet ETo"
         }
        }
       }
      }
     },
     "metadata": {},
     "output_type": "display_data"
    },
    {
     "name": "stdout",
     "output_type": "stream",
     "text": [
      "Complete!\n"
     ]
    }
   ],
   "source": [
    "if time_format == 'Hourly':\n",
    "    hourly_df, daily_df = compute_et_hourly(input_df, rfcrp, z, lat, lon, lzn, wndht, comment)\n",
    "    if make_wth:\n",
    "        to_wth(daily_df,comment)\n",
    "elif time_format == 'Daily':\n",
    "    daily_df = compute_et_daily(input_df, rfcrp, z, lat, wndht, comment) \n",
    "    if make_wth:\n",
    "        to_wth(daily_df,comment)   \n",
    "compute_statistics(daily_df,rfcrp,comment)\n",
    "print('Complete!')"
   ]
  }
 ],
 "metadata": {
  "celltoolbar": "Tags",
  "kernelspec": {
   "display_name": "pyfao_jupyter",
   "language": "python",
   "name": "python3"
  },
  "language_info": {
   "codemirror_mode": {
    "name": "ipython",
    "version": 3
   },
   "file_extension": ".py",
   "mimetype": "text/x-python",
   "name": "python",
   "nbconvert_exporter": "python",
   "pygments_lexer": "ipython3",
   "version": "3.9.21"
  }
 },
 "nbformat": 4,
 "nbformat_minor": 4
}
